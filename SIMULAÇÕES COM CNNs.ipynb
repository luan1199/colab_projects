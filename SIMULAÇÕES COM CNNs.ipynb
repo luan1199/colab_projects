{
  "nbformat": 4,
  "nbformat_minor": 0,
  "metadata": {
    "colab": {
      "name": "PIBITI2019_SE1_MA.ipynb",
      "provenance": [],
      "collapsed_sections": [],
      "include_colab_link": true
    },
    "kernelspec": {
      "name": "python3",
      "display_name": "Python 3"
    },
    "accelerator": "GPU"
  },
  "cells": [
    {
      "cell_type": "markdown",
      "metadata": {
        "id": "view-in-github",
        "colab_type": "text"
      },
      "source": [
        "<a href=\"https://colab.research.google.com/github/luan1199/colab_projects/blob/master/SIMULA%C3%87%C3%95ES%20COM%20CNNs.ipynb\" target=\"_parent\"><img src=\"https://colab.research.google.com/assets/colab-badge.svg\" alt=\"Open In Colab\"/></a>"
      ]
    },
    {
      "cell_type": "code",
      "metadata": {
        "id": "q2YJi_aVJyjr",
        "colab_type": "code",
        "outputId": "39cd3f04-377a-4ced-a903-54d24d6d1db5",
        "colab": {
          "base_uri": "https://localhost:8080/",
          "height": 147
        }
      },
      "source": [
        "from google.colab import drive\n",
        "drive.mount('/content/drive')\n",
        "\n",
        "import numpy as np\n",
        "from tensorflow.keras.models import Sequential\n",
        "from tensorflow.keras.layers import Dense, Dropout, Activation, Flatten, Conv2D, MaxPooling2D, ReLU, Softmax\n",
        "import tensorflow as tf\n",
        "import cv2\n",
        "import os\n",
        "import time\n",
        "import random\n",
        "from keras.utils.np_utils import to_categorical\n",
        "import glob\n",
        "from tqdm import tqdm\n",
        "import keras\n",
        "from keras.models import model_from_json\n",
        "from keras.models import load_model\n",
        "from keras import layers\n",
        "from sklearn.metrics import confusion_matrix\n",
        "from tensorflow.keras.callbacks import EarlyStopping\n",
        "from keras.preprocessing.image import ImageDataGenerator\n",
        "import matplotlib.pyplot as plt\n",
        "from keras import optimizers"
      ],
      "execution_count": 0,
      "outputs": [
        {
          "output_type": "stream",
          "text": [
            "Go to this URL in a browser: https://accounts.google.com/o/oauth2/auth?client_id=947318989803-6bn6qk8qdgf4n4g3pfee6491hc0brc4i.apps.googleusercontent.com&redirect_uri=urn%3Aietf%3Awg%3Aoauth%3A2.0%3Aoob&scope=email%20https%3A%2F%2Fwww.googleapis.com%2Fauth%2Fdocs.test%20https%3A%2F%2Fwww.googleapis.com%2Fauth%2Fdrive%20https%3A%2F%2Fwww.googleapis.com%2Fauth%2Fdrive.photos.readonly%20https%3A%2F%2Fwww.googleapis.com%2Fauth%2Fpeopleapi.readonly&response_type=code\n",
            "\n",
            "Enter your authorization code:\n",
            "··········\n",
            "Mounted at /content/drive\n"
          ],
          "name": "stdout"
        },
        {
          "output_type": "stream",
          "text": [
            "Using TensorFlow backend.\n"
          ],
          "name": "stderr"
        }
      ]
    },
    {
      "cell_type": "code",
      "metadata": {
        "id": "eiDBT96iUaVl",
        "colab_type": "code",
        "outputId": "27d4db83-ed44-4056-c176-d281879c797d",
        "colab": {
          "base_uri": "https://localhost:8080/",
          "height": 287
        }
      },
      "source": [
        "plt.plot([1,2,3,4,5,6], [91.9, 88.2, 71, 81.3, 75.9, 96.3])"
      ],
      "execution_count": 0,
      "outputs": [
        {
          "output_type": "execute_result",
          "data": {
            "text/plain": [
              "[<matplotlib.lines.Line2D at 0x7f31011bb2e8>]"
            ]
          },
          "metadata": {
            "tags": []
          },
          "execution_count": 2
        },
        {
          "output_type": "display_data",
          "data": {
            "image/png": "[encoded data removed]",
            "text/plain": [
              "<Figure size 432x288 with 1 Axes>"
            ]
          },
          "metadata": {
            "tags": []
          }
        }
      ]
    },
    {
      "cell_type": "code",
      "metadata": {
        "id": "Yx09SL5iu1bn",
        "colab_type": "code",
        "colab": {}
      },
      "source": [
        "clahe = cv2.createCLAHE(clipLimit=2.0, tileGridSize=(8,8))\n"
      ],
      "execution_count": 0,
      "outputs": []
    },
    {
      "cell_type": "code",
      "metadata": {
        "id": "LBbMkVYjPRJ7",
        "colab_type": "code",
        "outputId": "a63359cf-861c-40a1-9a93-655697c1f50a",
        "colab": {
          "base_uri": "https://localhost:8080/",
          "height": 35
        }
      },
      "source": [
        "training_data = []\n",
        "img_size = 244\n",
        "    \n",
        "DATADIR = \"drive/My Drive/separated_imgs/train/\"\n",
        "CATEGORIES = [\"c0/\",\"c1/\",\"c2/\",\"c3/\",\"c4/\"]\n",
        "'''\n",
        "def create_training_data():\n",
        "    for category in CATEGORIES:  # do dogs and cats\n",
        "        print('loading...')\n",
        "        path = os.path.join(DATADIR,category)  # create path to dogs and cats\n",
        "        class_num = CATEGORIES.index(category)  # get the classification  (0 or a 1). 0=dog 1=cat\n",
        "        for img in glob.glob(path+ \"*\"):  # iterate over each image per dogs and cats\n",
        "            try:\n",
        "                img_array = cv2.imread(img, cv2.IMREAD_GRAYSCALE) #os.path.join(img), cv2.IMREAD_GRAYSCALE)<<<<<<<<<<-\n",
        "                new_array = cv2.resize(img_array, (img_size, img_size))\n",
        "                training_data.append([new_array, class_num])\n",
        "\n",
        "            except Exception as e:\n",
        "                print(e)\n",
        "        \n",
        "\n",
        "        for img in glob.glob(path+ \"*\"):#adicionando imagens flipadas.\n",
        "            try:\n",
        "                img_array = cv2.imread(img, cv2.IMREAD_GRAYSCALE)\n",
        "                flipped_array = np.fliplr(img_array)\n",
        "                flipped_array = cv2.resize(img_array, (img_size, img_size))\n",
        "                training_data.append([flipped_array, class_num])\n",
        "            except Exception as e:\n",
        "                print(e)\n",
        "'''\n",
        "def create_training_data():\n",
        "\n",
        "  for category in CATEGORIES:  # do dogs and cats\n",
        "      print('loading...')\n",
        "      path = os.path.join(DATADIR,category)  # create path to dogs and cats\n",
        "      class_num = CATEGORIES.index(category)  # get the classification  (0 or a 1). 0=dog 1=cat\n",
        "      for img in glob.glob(path+ \"*\"):  # iterate over each image per dogs and cats\n",
        "          try:\n",
        "              img_array = cv2.imread(img, cv2.IMREAD_REDUCED_COLOR_8) #os.path.join(img), cv2.IMREAD_GRAYSCALE)<<<<<<<<<<-\n",
        "              new_array = cv2.resize(img_array, (img_size, img_size),3)\n",
        "              \n",
        "              #equ_r = clahe.apply(new_array[:,:,0])\n",
        "              #equ_g = clahe.apply(new_array[:,:,1])\n",
        "              #equ_b = clahe.apply(new_array[:,:,2])\n",
        "              \n",
        "              new_array = cv2.merge((clahe.apply(new_array[:,:,0]),clahe.apply(new_array[:,:,1]),clahe.apply(new_array[:,:,2])))\n",
        "              #new_array = equ_r\n",
        "              training_data.append([new_array, class_num])\n",
        "          except Exception as e:\n",
        "              print(e)\n",
        "\n",
        "create_training_data()\n",
        "\n",
        "\n",
        "random.shuffle(training_data)"
      ],
      "execution_count": 0,
      "outputs": [
        {
          "output_type": "stream",
          "text": [
            "loading...\n"
          ],
          "name": "stdout"
        }
      ]
    },
    {
      "cell_type": "code",
      "metadata": {
        "id": "EgOlSZwKO-LA",
        "colab_type": "code",
        "colab": {}
      },
      "source": [
        "\n",
        "testing_data = []\n",
        "\n",
        "DATADIR2 = \"drive/My Drive/separated_imgs/val/\"\n",
        "\n",
        "def create_testing_data():\n",
        "  for category in CATEGORIES:\n",
        "    print('loading, my dude...')\n",
        "    path = os.path.join(DATADIR2, category)\n",
        "    class_num = CATEGORIES.index(category)\n",
        "    for img in glob.glob(path+ \"*\"):\n",
        "        try:\n",
        "              img_array = cv2.imread(img, cv2.IMREAD_REDUCED_COLOR_8) #os.path.join(img), cv2.IMREAD_GRAYSCALE)<<<<<<<<<<-\n",
        "              new_array = cv2.resize(img_array, (img_size, img_size),3)\n",
        "              \n",
        "              #equ_r = clahe.apply(new_array[:,:,0])\n",
        "              #equ_g = clahe.apply(new_array[:,:,1])\n",
        "              #equ_b = clahe.apply(new_array[:,:,2])\n",
        "              \n",
        "              new_array = cv2.merge((clahe.apply(new_array[:,:,0]),clahe.apply(new_array[:,:,1]),clahe.apply(new_array[:,:,2])))\n",
        "              #equalizando histograma\n",
        "              #new_array = equ_r\n",
        "              testing_data.append([new_array, class_num])\n",
        "        except Exception as e:\n",
        "          print(e)\n",
        "create_testing_data()"
      ],
      "execution_count": 0,
      "outputs": []
    },
    {
      "cell_type": "code",
      "metadata": {
        "id": "87L_K7sRJNse",
        "colab_type": "code",
        "colab": {}
      },
      "source": [
        "#training data\n",
        "    \n",
        "x_train = []\n",
        "y_train = []\n",
        "    \n",
        "for features,label in training_data:\n",
        "  x_train.append(features)\n",
        "  y_train.append(label)\n",
        "    \n",
        "x_train = np.array(x_train).reshape(-1, img_size, img_size, 3)\n",
        "\n",
        "\n",
        "\n",
        "x_train = np.true_divide(x_train, 255.0)\n",
        "\n"
      ],
      "execution_count": 0,
      "outputs": []
    },
    {
      "cell_type": "code",
      "metadata": {
        "id": "qsX8VJeOCGq0",
        "colab_type": "code",
        "colab": {}
      },
      "source": [
        "x_train.shape"
      ],
      "execution_count": 0,
      "outputs": []
    },
    {
      "cell_type": "code",
      "metadata": {
        "id": "3riHqvMYQO4V",
        "colab_type": "code",
        "colab": {}
      },
      "source": [
        "#test data\n",
        "x_test = []\n",
        "y_test = []\n",
        "    \n",
        "for features,label in testing_data:\n",
        "    x_test.append(features)\n",
        "    y_test.append(label)\n",
        "    \n",
        "x_test = np.array(x_test).reshape(-1, img_size, img_size, 3)\n",
        "\n",
        "x_test = np.true_divide(x_test, 255.0)"
      ],
      "execution_count": 0,
      "outputs": []
    },
    {
      "cell_type": "code",
      "metadata": {
        "id": "wTNR6p70ZIpQ",
        "colab_type": "code",
        "outputId": "42e98761-4ac9-4bc2-e7f8-7d0724f42527",
        "colab": {
          "base_uri": "https://localhost:8080/",
          "height": 34
        }
      },
      "source": [
        "x_test.shape"
      ],
      "execution_count": 0,
      "outputs": [
        {
          "output_type": "execute_result",
          "data": {
            "text/plain": [
              "(3224, 244, 244, 1)"
            ]
          },
          "metadata": {
            "tags": []
          },
          "execution_count": 76
        }
      ]
    },
    {
      "cell_type": "markdown",
      "metadata": {
        "id": "055WsG0vH-Ys",
        "colab_type": "text"
      },
      "source": [
        "Type one, no batch-normalization"
      ]
    },
    {
      "cell_type": "code",
      "metadata": {
        "id": "Yykpdz8hPTFm",
        "colab_type": "code",
        "outputId": "93b77e15-b04b-424f-ab68-2b04f306e61d",
        "colab": {
          "base_uri": "https://localhost:8080/",
          "height": 278
        }
      },
      "source": [
        "#type 1 without batch-normalization\n",
        "\n",
        "es = EarlyStopping(monitor='val_loss',\n",
        "                   mode='min' ,\n",
        "                   verbose=1,\n",
        "                  patience=3)\n",
        "\n",
        "\n",
        "model_type_1_0 = Sequential()\n",
        "\n",
        "model_type_1_0.add(Conv2D(64, (3,3),\n",
        "          padding='same',\n",
        "          input_shape=x_train.shape[1:], activation='relu'))#64\n",
        "\n",
        "model_type_1_0.add(MaxPooling2D(pool_size=(2,2)))#M\n",
        "\n",
        "model_type_1_0.add(Flatten())\n",
        "\n",
        "model_type_1_0.add(Dense(100))\n",
        "\n",
        "model_type_1_0.add(ReLU())\n",
        "\n",
        "model_type_1_0.add(Dropout(0.5))\n",
        "\n",
        "model_type_1_0.add(Dense(100))\n",
        "\n",
        "model_type_1_0.add(Dense(5, activation='softmax'))\n",
        "\n",
        "#model_type_1_0.add(Softmax())\n",
        "\n",
        "sgd = tf.keras.optimizers.SGD(lr=0.01,\n",
        "                           decay=0.0,\n",
        "                           momentum=0.9,\n",
        "                           nesterov=True)\n",
        "\n",
        "model_type_1_0.compile(loss='sparse_categorical_crossentropy',\n",
        "                       optimizer=sgd,\n",
        "                       metrics=['accuracy'])\n",
        "\n",
        "\n",
        "since = time.time()\n",
        "\n",
        "\n",
        "history_1_0 = model_type_1_0.fit(x_train, y_train, batch_size=16,\n",
        "                  epochs=15,\n",
        "                  callbacks=[es],\n",
        "                  validation_split=0.1)\n",
        "\n",
        "time_elapsed = time.time() - since\n",
        "\n",
        "print('Training complete in {:.0f}m {:.0f}s'.format(time_elapsed // 60, time_elapsed % 60))"
      ],
      "execution_count": 0,
      "outputs": [
        {
          "output_type": "stream",
          "text": [
            "Train on 7668 samples, validate on 853 samples\n",
            "Epoch 1/15\n",
            "7668/7668 [==============================] - 35s 5ms/sample - loss: 1.1346 - acc: 0.5175 - val_loss: 0.1580 - val_acc: 0.9437\n",
            "Epoch 2/15\n",
            "7668/7668 [==============================] - 34s 4ms/sample - loss: 0.2798 - acc: 0.8961 - val_loss: 0.0517 - val_acc: 0.9848\n",
            "Epoch 3/15\n",
            "7668/7668 [==============================] - 34s 4ms/sample - loss: 0.1358 - acc: 0.9519 - val_loss: 0.0054 - val_acc: 0.9988\n",
            "Epoch 4/15\n",
            "7668/7668 [==============================] - 34s 4ms/sample - loss: 0.0978 - acc: 0.9647 - val_loss: 0.0180 - val_acc: 0.9941\n",
            "Epoch 5/15\n",
            "7668/7668 [==============================] - 34s 4ms/sample - loss: 0.0685 - acc: 0.9769 - val_loss: 0.0084 - val_acc: 0.9965\n",
            "Epoch 6/15\n",
            "7668/7668 [==============================] - 34s 4ms/sample - loss: 0.0524 - acc: 0.9827 - val_loss: 0.0158 - val_acc: 0.9930\n",
            "Epoch 00006: early stopping\n",
            "Training complete in 3m 28s\n"
          ],
          "name": "stdout"
        }
      ]
    },
    {
      "cell_type": "code",
      "metadata": {
        "id": "0OUP13X6Cu5p",
        "colab_type": "code",
        "outputId": "4ca76eb6-8265-4ef1-8206-8d12d8b41625",
        "colab": {
          "base_uri": "https://localhost:8080/",
          "height": 286
        }
      },
      "source": [
        "\n",
        "import pandas as pd\n",
        "\n",
        "\n",
        "pd.DataFrame(history_1_0.history).plot()"
      ],
      "execution_count": 0,
      "outputs": [
        {
          "output_type": "execute_result",
          "data": {
            "text/plain": [
              "<matplotlib.axes._subplots.AxesSubplot at 0x7fb60a07ba90>"
            ]
          },
          "metadata": {
            "tags": []
          },
          "execution_count": 52
        },
        {
          "output_type": "display_data",
          "data": {
            "image/png": "[encoded data removed]",
            "text/plain": [
              "<Figure size 432x288 with 1 Axes>"
            ]
          },
          "metadata": {
            "tags": []
          }
        }
      ]
    },
    {
      "cell_type": "code",
      "metadata": {
        "id": "ZTzFJQEaIxV3",
        "colab_type": "code",
        "outputId": "9a911434-1aa8-4c9a-8d71-b28770c0a2b5",
        "colab": {
          "base_uri": "https://localhost:8080/",
          "height": 52
        }
      },
      "source": [
        "model_type_1_0.evaluate(x_test,y_test,\n",
        "                        batch_size=16,\n",
        "                        verbose=1,\n",
        "                        steps=None)"
      ],
      "execution_count": 0,
      "outputs": [
        {
          "output_type": "stream",
          "text": [
            "3224/3224 [==============================] - 7s 2ms/sample - loss: 4.5339 - acc: 0.3626\n"
          ],
          "name": "stdout"
        },
        {
          "output_type": "execute_result",
          "data": {
            "text/plain": [
              "[4.533894222812084, 0.36259305]"
            ]
          },
          "metadata": {
            "tags": []
          },
          "execution_count": 77
        }
      ]
    },
    {
      "cell_type": "code",
      "metadata": {
        "id": "09E-W2-VLL_i",
        "colab_type": "code",
        "colab": {}
      },
      "source": [
        "y_pred_1_0 = model_type_1_0.predict(x_test)\n",
        "y_pred_1_0 = y_pred_1_0.argmax(axis=1)"
      ],
      "execution_count": 0,
      "outputs": []
    },
    {
      "cell_type": "code",
      "metadata": {
        "id": "dGpSwyAaLUOf",
        "colab_type": "code",
        "outputId": "42a9a65c-8de5-427f-e004-bde28c23329b",
        "colab": {
          "base_uri": "https://localhost:8080/",
          "height": 104
        }
      },
      "source": [
        "from sklearn import metrics\n",
        "\n",
        "confusion_1_0 = metrics.confusion_matrix(y_test,y_pred_1_0)\n",
        "confusion_1_0"
      ],
      "execution_count": 0,
      "outputs": [
        {
          "output_type": "execute_result",
          "data": {
            "text/plain": [
              "array([[265, 252,   2, 139,  35],\n",
              "       [  5, 438,   2, 201,   0],\n",
              "       [ 66, 374,  88, 108,  15],\n",
              "       [ 82, 280,   0, 231,  20],\n",
              "       [227, 191,   2,  54, 147]])"
            ]
          },
          "metadata": {
            "tags": []
          },
          "execution_count": 79
        }
      ]
    },
    {
      "cell_type": "code",
      "metadata": {
        "id": "6UlzV8KCL2pP",
        "colab_type": "code",
        "outputId": "bc5faf32-1e23-4ea7-c833-5b5137d692f0",
        "colab": {
          "base_uri": "https://localhost:8080/",
          "height": 225
        }
      },
      "source": [
        "print(metrics.classification_report(y_test,y_pred_1_0))"
      ],
      "execution_count": 0,
      "outputs": [
        {
          "output_type": "stream",
          "text": [
            "              precision    recall  f1-score   support\n",
            "\n",
            "           0       0.41      0.38      0.40       693\n",
            "           1       0.29      0.68      0.40       646\n",
            "           2       0.94      0.14      0.24       651\n",
            "           3       0.32      0.38      0.34       613\n",
            "           4       0.68      0.24      0.35       621\n",
            "\n",
            "    accuracy                           0.36      3224\n",
            "   macro avg       0.52      0.36      0.35      3224\n",
            "weighted avg       0.52      0.36      0.35      3224\n",
            "\n"
          ],
          "name": "stdout"
        }
      ]
    },
    {
      "cell_type": "code",
      "metadata": {
        "id": "uNUXTh46M09P",
        "colab_type": "code",
        "outputId": "cb86bcd2-e322-47d0-b29c-407f24861ccd",
        "colab": {
          "base_uri": "https://localhost:8080/",
          "height": 467
        }
      },
      "source": [
        "import numpy as np\n",
        "\n",
        "\n",
        "def plot_confusion_matrix(cm,\n",
        "                          target_names,\n",
        "                          title='Confusion matrix',\n",
        "                          cmap=None,\n",
        "                          normalize=True):\n",
        "    \"\"\"\n",
        "    given a sklearn confusion matrix (cm), make a nice plot\n",
        "\n",
        "    Arguments\n",
        "    ---------\n",
        "    cm:           confusion matrix from sklearn.metrics.confusion_matrix\n",
        "\n",
        "    target_names: given classification classes such as [0, 1, 2]\n",
        "                  the class names, for example: ['high', 'medium', 'low']\n",
        "\n",
        "    title:        the text to display at the top of the matrix\n",
        "\n",
        "    cmap:         the gradient of the values displayed from matplotlib.pyplot.cm\n",
        "                  see http://matplotlib.org/examples/color/colormaps_reference.html\n",
        "                  plt.get_cmap('jet') or plt.cm.Blues\n",
        "\n",
        "    normalize:    If False, plot the raw numbers\n",
        "                  If True, plot the proportions\n",
        "\n",
        "    Usage\n",
        "    -----\n",
        "    plot_confusion_matrix(cm           = cm,                  # confusion matrix created by\n",
        "                                                              # sklearn.metrics.confusion_matrix\n",
        "                          normalize    = True,                # show proportions\n",
        "                          target_names = y_labels_vals,       # list of names of the classes\n",
        "                          title        = best_estimator_name) # title of graph\n",
        "\n",
        "    Citiation\n",
        "    ---------\n",
        "    http://scikit-learn.org/stable/auto_examples/model_selection/plot_confusion_matrix.html\n",
        "\n",
        "    \"\"\"\n",
        "    import matplotlib.pyplot as plt\n",
        "    import numpy as np\n",
        "    import itertools\n",
        "\n",
        "    accuracy = np.trace(cm) / float(np.sum(cm))\n",
        "    misclass = 1 - accuracy\n",
        "\n",
        "    if cmap is None:\n",
        "        cmap = plt.get_cmap('Blues')\n",
        "\n",
        "    plt.figure(figsize=(8, 6))\n",
        "    plt.imshow(cm, interpolation='nearest', cmap=cmap)\n",
        "    plt.title(title)\n",
        "    plt.colorbar()\n",
        "\n",
        "    if target_names is not None:\n",
        "        tick_marks = np.arange(len(target_names))\n",
        "        plt.xticks(tick_marks, target_names, rotation=45)\n",
        "        plt.yticks(tick_marks, target_names)\n",
        "\n",
        "    if normalize:\n",
        "        cm = cm.astype('float') / cm.sum(axis=1)[:, np.newaxis]\n",
        "\n",
        "\n",
        "    thresh = cm.max() / 1.5 if normalize else cm.max() / 2\n",
        "    for i, j in itertools.product(range(cm.shape[0]), range(cm.shape[1])):\n",
        "        if normalize:\n",
        "            plt.text(j, i, \"{:0.4f}\".format(cm[i, j]),\n",
        "                     horizontalalignment=\"center\",\n",
        "                     color=\"white\" if cm[i, j] > thresh else \"black\")\n",
        "        else:\n",
        "            plt.text(j, i, \"{:,}\".format(cm[i, j]),\n",
        "                     horizontalalignment=\"center\",\n",
        "                     color=\"white\" if cm[i, j] > thresh else \"black\")\n",
        "\n",
        "\n",
        "    plt.tight_layout()\n",
        "    plt.ylabel('True label')\n",
        "    plt.xlabel('Predicted label\\naccuracy={:0.4f}; misclass={:0.4f}'.format(accuracy, misclass))\n",
        "    plt.show()\n",
        "plot_confusion_matrix(confusion_1_0,['c0','c1','c2','c3','c4'])"
      ],
      "execution_count": 0,
      "outputs": [
        {
          "output_type": "display_data",
          "data": {
            "image/png": "[encoded data removed]",
            "text/plain": [
              "<Figure size 576x432 with 2 Axes>"
            ]
          },
          "metadata": {
            "tags": []
          }
        }
      ]
    },
    {
      "cell_type": "code",
      "metadata": {
        "id": "HH2hBEXt6qdP",
        "colab_type": "code",
        "colab": {}
      },
      "source": [
        "model_json = model_type_1_0.to_json()\n",
        "\n",
        "with open('model_type_1_0','w') as json_file:\n",
        "  json_file.write(model_json)\n",
        "  \n",
        "model_type_1_0.save_weights('model_type_1_0.h5')"
      ],
      "execution_count": 0,
      "outputs": []
    },
    {
      "cell_type": "markdown",
      "metadata": {
        "id": "rDxMUKayIJgn",
        "colab_type": "text"
      },
      "source": [
        "Type one, with batch-normalization."
      ]
    },
    {
      "cell_type": "code",
      "metadata": {
        "id": "XdWS9d7UQ3qq",
        "colab_type": "code",
        "outputId": "55c63d2c-2c38-44e5-c69d-8c19caa0599b",
        "colab": {
          "base_uri": "https://localhost:8080/",
          "height": 573
        }
      },
      "source": [
        "#type 1 with batch-normalization\n",
        "model_type_1_1 = Sequential()\n",
        "\n",
        "es = EarlyStopping(monitor='val_loss',\n",
        "                   mode='min' ,\n",
        "                   verbose=1,\n",
        "                  patience=3)\n",
        "\n",
        "\n",
        "model_type_1_1.add(Conv2D(64, (3,3),\n",
        "          padding='same',\n",
        "          input_shape=x_train.shape[1:],\n",
        "                 activation='relu'))#64\n",
        "\n",
        "keras.layers.BatchNormalization(axis=1,\n",
        "                                momentum=0.9,\n",
        "                                epsilon=0.001,\n",
        "                                center=True,\n",
        "                                scale=True,\n",
        "                                beta_initializer='zeros',\n",
        "                                gamma_initializer='ones',\n",
        "                                moving_mean_initializer='zeros',\n",
        "                                moving_variance_initializer='ones',\n",
        "                                beta_regularizer=None,\n",
        "                                gamma_regularizer=None,\n",
        "                                beta_constraint=None,\n",
        "                                gamma_constraint=None)\n",
        "\n",
        "\n",
        "model_type_1_1.add(MaxPooling2D(pool_size=(2,2)))#m\n",
        "\n",
        "\n",
        "model_type_1_1.add(Flatten())\n",
        "\n",
        "model_type_1_1.add(Dense(100))\n",
        "\n",
        "model_type_1_1.add(ReLU())\n",
        "\n",
        "model_type_1_1.add(Dropout(0.5))\n",
        "\n",
        "model_type_1_1.add(Dense(100))\n",
        "\n",
        "model_type_1_1.add(Dense(5, activation='softmax'))\n",
        "\n",
        "#model_type_1_1.add(Softmax())\n",
        "\n",
        "\n",
        "'''\n",
        "model_type_1_1.add(Dense(16, activation='softmax'))\n",
        "'''\n",
        "\n",
        "model_type_1_1.compile(loss='sparse_categorical_crossentropy',\n",
        "             optimizer='sgd',\n",
        "             metrics=['accuracy'])\n",
        "\n",
        "\n",
        "since = time.time()\n",
        "\n",
        "\n",
        "history_1_1 = model_type_1_1.fit(x_train, y_train,\n",
        "          batch_size=16,\n",
        "          epochs=15,\n",
        "          validation_split=0.1,\n",
        "          callbacks=[es])\n",
        "\n",
        "\n",
        "time_elapsed = time.time() - since\n",
        "print('Training complete in {:.0f}m {:.0f}s'.format(time_elapsed // 60, time_elapsed % 60))\n"
      ],
      "execution_count": 0,
      "outputs": [
        {
          "output_type": "stream",
          "text": [
            "Train on 7668 samples, validate on 853 samples\n",
            "Epoch 1/15\n",
            "7668/7668 [==============================] - 32s 4ms/sample - loss: 1.2601 - acc: 0.5126 - val_loss: 0.8258 - val_acc: 0.6319\n",
            "Epoch 2/15\n",
            "7668/7668 [==============================] - 32s 4ms/sample - loss: 0.2601 - acc: 0.9351 - val_loss: 0.0376 - val_acc: 1.0000\n",
            "Epoch 3/15\n",
            "7668/7668 [==============================] - 32s 4ms/sample - loss: 0.0789 - acc: 0.9827 - val_loss: 0.0134 - val_acc: 1.0000\n",
            "Epoch 4/15\n",
            "7668/7668 [==============================] - 32s 4ms/sample - loss: 0.0380 - acc: 0.9924 - val_loss: 0.0076 - val_acc: 1.0000\n",
            "Epoch 5/15\n",
            "7668/7668 [==============================] - 31s 4ms/sample - loss: 0.0297 - acc: 0.9944 - val_loss: 0.0059 - val_acc: 1.0000\n",
            "Epoch 6/15\n",
            "7668/7668 [==============================] - 32s 4ms/sample - loss: 0.0182 - acc: 0.9971 - val_loss: 0.0027 - val_acc: 1.0000\n",
            "Epoch 7/15\n",
            "7668/7668 [==============================] - 31s 4ms/sample - loss: 0.0166 - acc: 0.9970 - val_loss: 0.0017 - val_acc: 1.0000\n",
            "Epoch 8/15\n",
            "7668/7668 [==============================] - 31s 4ms/sample - loss: 0.0131 - acc: 0.9974 - val_loss: 0.0011 - val_acc: 1.0000\n",
            "Epoch 9/15\n",
            "7668/7668 [==============================] - 31s 4ms/sample - loss: 0.0094 - acc: 0.9984 - val_loss: 0.0011 - val_acc: 1.0000\n",
            "Epoch 10/15\n",
            "7668/7668 [==============================] - 31s 4ms/sample - loss: 0.0081 - acc: 0.9991 - val_loss: 8.0656e-04 - val_acc: 1.0000\n",
            "Epoch 11/15\n",
            "7668/7668 [==============================] - 31s 4ms/sample - loss: 0.0081 - acc: 0.9987 - val_loss: 0.0011 - val_acc: 1.0000\n",
            "Epoch 12/15\n",
            "7668/7668 [==============================] - 31s 4ms/sample - loss: 0.0064 - acc: 0.9992 - val_loss: 9.9072e-04 - val_acc: 1.0000\n",
            "Epoch 13/15\n",
            "7668/7668 [==============================] - 31s 4ms/sample - loss: 0.0077 - acc: 0.9984 - val_loss: 6.6946e-04 - val_acc: 1.0000\n",
            "Epoch 14/15\n",
            "7668/7668 [==============================] - 32s 4ms/sample - loss: 0.0057 - acc: 0.9990 - val_loss: 3.7536e-04 - val_acc: 1.0000\n",
            "Epoch 15/15\n",
            "7668/7668 [==============================] - 31s 4ms/sample - loss: 0.0066 - acc: 0.9990 - val_loss: 3.1604e-04 - val_acc: 1.0000\n",
            "Training complete in 7m 53s\n"
          ],
          "name": "stdout"
        }
      ]
    },
    {
      "cell_type": "code",
      "metadata": {
        "id": "rGoa6_aBJB5C",
        "colab_type": "code",
        "outputId": "5c412a40-530e-4508-8139-245c8f06abb2",
        "colab": {
          "base_uri": "https://localhost:8080/",
          "height": 52
        }
      },
      "source": [
        "model_type_1_1.evaluate(x_test,y_test,\n",
        "                        batch_size=16,verbose=1,\n",
        "                       steps=None)"
      ],
      "execution_count": 0,
      "outputs": [
        {
          "output_type": "stream",
          "text": [
            "3224/3224 [==============================] - 7s 2ms/sample - loss: 6.0851 - acc: 0.3573\n"
          ],
          "name": "stdout"
        },
        {
          "output_type": "execute_result",
          "data": {
            "text/plain": [
              "[6.08508434081011, 0.3573201]"
            ]
          },
          "metadata": {
            "tags": []
          },
          "execution_count": 82
        }
      ]
    },
    {
      "cell_type": "code",
      "metadata": {
        "id": "V0IRJ_TZilwy",
        "colab_type": "code",
        "outputId": "a6b0fa15-2113-4fca-9a14-c58b45312744",
        "colab": {
          "base_uri": "https://localhost:8080/",
          "height": 286
        }
      },
      "source": [
        "pd.DataFrame(history_1_1.history).plot()"
      ],
      "execution_count": 0,
      "outputs": [
        {
          "output_type": "execute_result",
          "data": {
            "text/plain": [
              "<matplotlib.axes._subplots.AxesSubplot at 0x7fb5dc420278>"
            ]
          },
          "metadata": {
            "tags": []
          },
          "execution_count": 61
        },
        {
          "output_type": "display_data",
          "data": {
            "image/png": "[encoded data removed]",
            "text/plain": [
              "<Figure size 432x288 with 1 Axes>"
            ]
          },
          "metadata": {
            "tags": []
          }
        }
      ]
    },
    {
      "cell_type": "code",
      "metadata": {
        "id": "JlbPpS-IP9RS",
        "colab_type": "code",
        "outputId": "ebe50153-f0b0-439a-b7e8-7845e69231ef",
        "colab": {
          "base_uri": "https://localhost:8080/",
          "height": 225
        }
      },
      "source": [
        "y_pred_1_1 = model_type_1_1.predict(x_test)\n",
        "print(metrics.classification_report(y_test, y_pred_1_1.argmax(axis=1)))\n"
      ],
      "execution_count": 0,
      "outputs": [
        {
          "output_type": "stream",
          "text": [
            "              precision    recall  f1-score   support\n",
            "\n",
            "           0       0.50      0.18      0.26       693\n",
            "           1       0.25      0.96      0.39       646\n",
            "           2       1.00      0.11      0.20       651\n",
            "           3       0.78      0.32      0.45       613\n",
            "           4       0.93      0.23      0.37       621\n",
            "\n",
            "    accuracy                           0.36      3224\n",
            "   macro avg       0.69      0.36      0.34      3224\n",
            "weighted avg       0.69      0.36      0.33      3224\n",
            "\n"
          ],
          "name": "stdout"
        }
      ]
    },
    {
      "cell_type": "code",
      "metadata": {
        "id": "BOyTn0QxQ55u",
        "colab_type": "code",
        "outputId": "7ba22fcd-9d44-4ddf-de7d-317603d432e1",
        "colab": {
          "base_uri": "https://localhost:8080/",
          "height": 467
        }
      },
      "source": [
        "plot_confusion_matrix(metrics.confusion_matrix(y_test,y_pred_1_1.argmax(axis=1)),['c0','c1','c2','c3','c4'])"
      ],
      "execution_count": 0,
      "outputs": [
        {
          "output_type": "display_data",
          "data": {
            "image/png": "[encoded data removed]",
            "text/plain": [
              "<Figure size 576x432 with 2 Axes>"
            ]
          },
          "metadata": {
            "tags": []
          }
        }
      ]
    },
    {
      "cell_type": "code",
      "metadata": {
        "id": "gx1hDs_g9rEb",
        "colab_type": "code",
        "colab": {}
      },
      "source": [
        "model_json = model_type_1_1.to_json()\n",
        "\n",
        "with open('model_type_1_1','w') as json_file:\n",
        "  json_file.write(model_json)\n",
        "  \n",
        "model_type_1_1.save_weights('model_type_1_1.h5')"
      ],
      "execution_count": 0,
      "outputs": []
    },
    {
      "cell_type": "markdown",
      "metadata": {
        "id": "xOL1MvxVISLX",
        "colab_type": "text"
      },
      "source": [
        "type two, no batch-normalization"
      ]
    },
    {
      "cell_type": "code",
      "metadata": {
        "id": "o84VkaxZll6F",
        "colab_type": "code",
        "outputId": "a25405fc-70eb-4578-c251-ce8dc10081fe",
        "colab": {
          "base_uri": "https://localhost:8080/",
          "height": 434
        }
      },
      "source": [
        "model_type_2_0 = Sequential()#type 2 without batch-normalization\n",
        "\n",
        "es = EarlyStopping(monitor='val_loss',\n",
        "                   mode='min' ,\n",
        "                   verbose=1,\n",
        "                  patience=3)\n",
        "\n",
        "\n",
        "model_type_2_0.add(Conv2D(64, (3,3),\n",
        "          padding='same',\n",
        "          input_shape=x_train.shape[1:],\n",
        "                 activation='relu'))#64\n",
        "\n",
        "model_type_2_0.add(Conv2D(32, (3,3),\n",
        "                padding='same',\n",
        "                activation='relu'))#32\n",
        "\n",
        "model_type_2_0.add(MaxPooling2D(pool_size=(2,2)))#Maxpooling layer\n",
        "\n",
        "\n",
        "\n",
        "model_type_2_0.add(Flatten())\n",
        "\n",
        "'''\n",
        "model_type_2_0.add(Dense(16, activation='softmax'))\n",
        "'''\n",
        "\n",
        "model_type_2_0.add(Dense(100))\n",
        "\n",
        "model_type_2_0.add(ReLU())\n",
        "\n",
        "model_type_2_0.add(Dropout(0.5))\n",
        "\n",
        "model_type_2_0.add(Dense(100))\n",
        "\n",
        "model_type_2_0.add(Dense(5, activation='softmax'))\n",
        "\n",
        "#model_type_2_0.add(Softmax())\n",
        "\n",
        "\n",
        "model_type_2_0.compile(loss='sparse_categorical_crossentropy',\n",
        "             optimizer='sgd',\n",
        "             metrics=['accuracy'])\n",
        "\n",
        "since = time.time()\n",
        "\n",
        "history_2_0 = model_type_2_0.fit(x_train, y_train,\n",
        "                   batch_size=16,\n",
        "                   epochs=15,\n",
        "                   validation_split=0.1)\n",
        "\n",
        "time_elapsed = time.time() - since\n",
        "print('Training complete in {:.0f}m {:.0f}s'.format(time_elapsed // 60, time_elapsed % 60))"
      ],
      "execution_count": 0,
      "outputs": [
        {
          "output_type": "stream",
          "text": [
            "Train on 7668 samples, validate on 853 samples\n",
            "Epoch 1/15\n",
            "1056/7668 [===>..........................] - ETA: 33s - loss: 1.6127 - acc: 0.2405"
          ],
          "name": "stdout"
        },
        {
          "output_type": "error",
          "ename": "KeyboardInterrupt",
          "evalue": "ignored",
          "traceback": [
            "\u001b[0;31m---------------------------------------------------------------------------\u001b[0m",
            "\u001b[0;31mKeyboardInterrupt\u001b[0m                         Traceback (most recent call last)",
            "\u001b[0;32m<ipython-input-85-f93e81a941c1>\u001b[0m in \u001b[0;36m<module>\u001b[0;34m()\u001b[0m\n\u001b[1;32m     48\u001b[0m                    \u001b[0mbatch_size\u001b[0m\u001b[0;34m=\u001b[0m\u001b[0;36m16\u001b[0m\u001b[0;34m,\u001b[0m\u001b[0;34m\u001b[0m\u001b[0;34m\u001b[0m\u001b[0m\n\u001b[1;32m     49\u001b[0m                    \u001b[0mepochs\u001b[0m\u001b[0;34m=\u001b[0m\u001b[0;36m15\u001b[0m\u001b[0;34m,\u001b[0m\u001b[0;34m\u001b[0m\u001b[0;34m\u001b[0m\u001b[0m\n\u001b[0;32m---> 50\u001b[0;31m                    validation_split=0.1)\n\u001b[0m\u001b[1;32m     51\u001b[0m \u001b[0;34m\u001b[0m\u001b[0m\n\u001b[1;32m     52\u001b[0m \u001b[0mtime_elapsed\u001b[0m \u001b[0;34m=\u001b[0m \u001b[0mtime\u001b[0m\u001b[0;34m.\u001b[0m\u001b[0mtime\u001b[0m\u001b[0;34m(\u001b[0m\u001b[0;34m)\u001b[0m \u001b[0;34m-\u001b[0m \u001b[0msince\u001b[0m\u001b[0;34m\u001b[0m\u001b[0;34m\u001b[0m\u001b[0m\n",
            "\u001b[0;32m/usr/local/lib/python3.6/dist-packages/tensorflow/python/keras/engine/training.py\u001b[0m in \u001b[0;36mfit\u001b[0;34m(self, x, y, batch_size, epochs, verbose, callbacks, validation_split, validation_data, shuffle, class_weight, sample_weight, initial_epoch, steps_per_epoch, validation_steps, validation_freq, max_queue_size, workers, use_multiprocessing, **kwargs)\u001b[0m\n\u001b[1;32m    778\u001b[0m           \u001b[0mvalidation_steps\u001b[0m\u001b[0;34m=\u001b[0m\u001b[0mvalidation_steps\u001b[0m\u001b[0;34m,\u001b[0m\u001b[0;34m\u001b[0m\u001b[0;34m\u001b[0m\u001b[0m\n\u001b[1;32m    779\u001b[0m           \u001b[0mvalidation_freq\u001b[0m\u001b[0;34m=\u001b[0m\u001b[0mvalidation_freq\u001b[0m\u001b[0;34m,\u001b[0m\u001b[0;34m\u001b[0m\u001b[0;34m\u001b[0m\u001b[0m\n\u001b[0;32m--> 780\u001b[0;31m           steps_name='steps_per_epoch')\n\u001b[0m\u001b[1;32m    781\u001b[0m \u001b[0;34m\u001b[0m\u001b[0m\n\u001b[1;32m    782\u001b[0m   def evaluate(self,\n",
            "\u001b[0;32m/usr/local/lib/python3.6/dist-packages/tensorflow/python/keras/engine/training_arrays.py\u001b[0m in \u001b[0;36mmodel_iteration\u001b[0;34m(model, inputs, targets, sample_weights, batch_size, epochs, verbose, callbacks, val_inputs, val_targets, val_sample_weights, shuffle, initial_epoch, steps_per_epoch, validation_steps, validation_freq, mode, validation_in_fit, prepared_feed_values_from_dataset, steps_name, **kwargs)\u001b[0m\n\u001b[1;32m    361\u001b[0m \u001b[0;34m\u001b[0m\u001b[0m\n\u001b[1;32m    362\u001b[0m         \u001b[0;31m# Get outputs.\u001b[0m\u001b[0;34m\u001b[0m\u001b[0;34m\u001b[0m\u001b[0;34m\u001b[0m\u001b[0m\n\u001b[0;32m--> 363\u001b[0;31m         \u001b[0mbatch_outs\u001b[0m \u001b[0;34m=\u001b[0m \u001b[0mf\u001b[0m\u001b[0;34m(\u001b[0m\u001b[0mins_batch\u001b[0m\u001b[0;34m)\u001b[0m\u001b[0;34m\u001b[0m\u001b[0;34m\u001b[0m\u001b[0m\n\u001b[0m\u001b[1;32m    364\u001b[0m         \u001b[0;32mif\u001b[0m \u001b[0;32mnot\u001b[0m \u001b[0misinstance\u001b[0m\u001b[0;34m(\u001b[0m\u001b[0mbatch_outs\u001b[0m\u001b[0;34m,\u001b[0m \u001b[0mlist\u001b[0m\u001b[0;34m)\u001b[0m\u001b[0;34m:\u001b[0m\u001b[0;34m\u001b[0m\u001b[0;34m\u001b[0m\u001b[0m\n\u001b[1;32m    365\u001b[0m           \u001b[0mbatch_outs\u001b[0m \u001b[0;34m=\u001b[0m \u001b[0;34m[\u001b[0m\u001b[0mbatch_outs\u001b[0m\u001b[0;34m]\u001b[0m\u001b[0;34m\u001b[0m\u001b[0;34m\u001b[0m\u001b[0m\n",
            "\u001b[0;32m/usr/local/lib/python3.6/dist-packages/tensorflow/python/keras/backend.py\u001b[0m in \u001b[0;36m__call__\u001b[0;34m(self, inputs)\u001b[0m\n\u001b[1;32m   3290\u001b[0m \u001b[0;34m\u001b[0m\u001b[0m\n\u001b[1;32m   3291\u001b[0m     fetched = self._callable_fn(*array_vals,\n\u001b[0;32m-> 3292\u001b[0;31m                                 run_metadata=self.run_metadata)\n\u001b[0m\u001b[1;32m   3293\u001b[0m     \u001b[0mself\u001b[0m\u001b[0;34m.\u001b[0m\u001b[0m_call_fetch_callbacks\u001b[0m\u001b[0;34m(\u001b[0m\u001b[0mfetched\u001b[0m\u001b[0;34m[\u001b[0m\u001b[0;34m-\u001b[0m\u001b[0mlen\u001b[0m\u001b[0;34m(\u001b[0m\u001b[0mself\u001b[0m\u001b[0;34m.\u001b[0m\u001b[0m_fetches\u001b[0m\u001b[0;34m)\u001b[0m\u001b[0;34m:\u001b[0m\u001b[0;34m]\u001b[0m\u001b[0;34m)\u001b[0m\u001b[0;34m\u001b[0m\u001b[0;34m\u001b[0m\u001b[0m\n\u001b[1;32m   3294\u001b[0m     output_structure = nest.pack_sequence_as(\n",
            "\u001b[0;32m/usr/local/lib/python3.6/dist-packages/tensorflow/python/client/session.py\u001b[0m in \u001b[0;36m__call__\u001b[0;34m(self, *args, **kwargs)\u001b[0m\n\u001b[1;32m   1456\u001b[0m         ret = tf_session.TF_SessionRunCallable(self._session._session,\n\u001b[1;32m   1457\u001b[0m                                                \u001b[0mself\u001b[0m\u001b[0;34m.\u001b[0m\u001b[0m_handle\u001b[0m\u001b[0;34m,\u001b[0m \u001b[0margs\u001b[0m\u001b[0;34m,\u001b[0m\u001b[0;34m\u001b[0m\u001b[0;34m\u001b[0m\u001b[0m\n\u001b[0;32m-> 1458\u001b[0;31m                                                run_metadata_ptr)\n\u001b[0m\u001b[1;32m   1459\u001b[0m         \u001b[0;32mif\u001b[0m \u001b[0mrun_metadata\u001b[0m\u001b[0;34m:\u001b[0m\u001b[0;34m\u001b[0m\u001b[0;34m\u001b[0m\u001b[0m\n\u001b[1;32m   1460\u001b[0m           \u001b[0mproto_data\u001b[0m \u001b[0;34m=\u001b[0m \u001b[0mtf_session\u001b[0m\u001b[0;34m.\u001b[0m\u001b[0mTF_GetBuffer\u001b[0m\u001b[0;34m(\u001b[0m\u001b[0mrun_metadata_ptr\u001b[0m\u001b[0;34m)\u001b[0m\u001b[0;34m\u001b[0m\u001b[0;34m\u001b[0m\u001b[0m\n",
            "\u001b[0;31mKeyboardInterrupt\u001b[0m: "
          ]
        }
      ]
    },
    {
      "cell_type": "code",
      "metadata": {
        "id": "WCf0q3QCTrBO",
        "colab_type": "code",
        "outputId": "5f9ce616-6f93-46a2-c0cc-f8ab25f3f643",
        "colab": {
          "base_uri": "https://localhost:8080/",
          "height": 52
        }
      },
      "source": [
        "model_type_2_0.evaluate(x_test,y_test,\n",
        "                        batch_size=16,verbose=1,\n",
        "                       steps=None)\n"
      ],
      "execution_count": 0,
      "outputs": [
        {
          "output_type": "stream",
          "text": [
            "3224/3224 [==============================] - 7s 2ms/sample - loss: 1.6080 - acc: 0.2150\n"
          ],
          "name": "stdout"
        },
        {
          "output_type": "execute_result",
          "data": {
            "text/plain": [
              "[1.6079573882720606, 0.21495037]"
            ]
          },
          "metadata": {
            "tags": []
          },
          "execution_count": 86
        }
      ]
    },
    {
      "cell_type": "code",
      "metadata": {
        "id": "IOcaxFNrn5-B",
        "colab_type": "code",
        "outputId": "4a762e30-f127-464f-b58a-892fd8b6bc16",
        "colab": {
          "base_uri": "https://localhost:8080/",
          "height": 286
        }
      },
      "source": [
        "pd.DataFrame(history_2_0.history).plot()"
      ],
      "execution_count": 0,
      "outputs": [
        {
          "output_type": "execute_result",
          "data": {
            "text/plain": [
              "<matplotlib.axes._subplots.AxesSubplot at 0x7fb795d4b828>"
            ]
          },
          "metadata": {
            "tags": []
          },
          "execution_count": 47
        },
        {
          "output_type": "display_data",
          "data": {
            "image/png": "[encoded data removed]",
            "text/plain": [
              "<Figure size 432x288 with 1 Axes>"
            ]
          },
          "metadata": {
            "tags": []
          }
        }
      ]
    },
    {
      "cell_type": "code",
      "metadata": {
        "id": "p7SC7dntS15i",
        "colab_type": "code",
        "outputId": "f2de6c39-9b46-46a3-b2b4-359e0e3fda0c",
        "colab": {
          "base_uri": "https://localhost:8080/",
          "height": 350
        }
      },
      "source": [
        "y_pred_2_0 = model_type_2_0.predict(x_test)\n",
        "print(metrics.classification_report(y_test, y_pred_2_0.argmax(axis=1)))\n"
      ],
      "execution_count": 0,
      "outputs": [
        {
          "output_type": "stream",
          "text": [
            "              precision    recall  f1-score   support\n",
            "\n",
            "           0       0.21      1.00      0.35       693\n",
            "           1       0.00      0.00      0.00       646\n",
            "           2       0.00      0.00      0.00       651\n",
            "           3       0.00      0.00      0.00       613\n",
            "           4       0.00      0.00      0.00       621\n",
            "\n",
            "    accuracy                           0.21      3224\n",
            "   macro avg       0.04      0.20      0.07      3224\n",
            "weighted avg       0.05      0.21      0.08      3224\n",
            "\n"
          ],
          "name": "stdout"
        },
        {
          "output_type": "stream",
          "text": [
            "/usr/local/lib/python3.6/dist-packages/sklearn/metrics/classification.py:1437: UndefinedMetricWarning: Precision and F-score are ill-defined and being set to 0.0 in labels with no predicted samples.\n",
            "  'precision', 'predicted', average, warn_for)\n",
            "/usr/local/lib/python3.6/dist-packages/sklearn/metrics/classification.py:1437: UndefinedMetricWarning: Precision and F-score are ill-defined and being set to 0.0 in labels with no predicted samples.\n",
            "  'precision', 'predicted', average, warn_for)\n",
            "/usr/local/lib/python3.6/dist-packages/sklearn/metrics/classification.py:1437: UndefinedMetricWarning: Precision and F-score are ill-defined and being set to 0.0 in labels with no predicted samples.\n",
            "  'precision', 'predicted', average, warn_for)\n"
          ],
          "name": "stderr"
        }
      ]
    },
    {
      "cell_type": "code",
      "metadata": {
        "id": "7rH5Ck3OS7Vl",
        "colab_type": "code",
        "outputId": "9cefaeef-404e-49f5-b294-a7245df98897",
        "colab": {
          "base_uri": "https://localhost:8080/",
          "height": 467
        }
      },
      "source": [
        "plot_confusion_matrix(metrics.confusion_matrix(y_test,y_pred_2_0.argmax(axis=1)),['c0','c1','c2','c3','c4'])"
      ],
      "execution_count": 0,
      "outputs": [
        {
          "output_type": "display_data",
          "data": {
            "image/png": "[encoded data removed]",
            "text/plain": [
              "<Figure size 576x432 with 2 Axes>"
            ]
          },
          "metadata": {
            "tags": []
          }
        }
      ]
    },
    {
      "cell_type": "code",
      "metadata": {
        "id": "SxF74BioY0QC",
        "colab_type": "code",
        "outputId": "b32a5065-6f62-4f9d-f71d-8d8085638c8f",
        "colab": {
          "base_uri": "https://localhost:8080/",
          "height": 432
        }
      },
      "source": [
        "import pandas as pd\n",
        "import seaborn as sn\n",
        "import matplotlib.pyplot as plt\n",
        "def plot_one_label_CM(array):\n",
        "  df_cm = pd.DataFrame(array, index = [i for i in \"ABCDE\"],\n",
        "                  columns = [i for i in \"ABCDE\"])\n",
        "  plt.figure(figsize = (10,7))\n",
        "  sn.heatmap(df_cm, annot=True)\n",
        "  \n",
        "plot_one_label_CM(metrics.confusion_matrix(y_test,y_pred_2_0.argmax(axis=1)))"
      ],
      "execution_count": 0,
      "outputs": [
        {
          "output_type": "display_data",
          "data": {
            "image/png": "[encoded data removed]",
            "text/plain": [
              "<Figure size 720x504 with 2 Axes>"
            ]
          },
          "metadata": {
            "tags": []
          }
        }
      ]
    },
    {
      "cell_type": "code",
      "metadata": {
        "id": "hlmw13pR5J6r",
        "colab_type": "code",
        "colab": {}
      },
      "source": [
        "model_json = model_type_2_0.to_json()\n",
        "\n",
        "with open('model_type_2_0','w') as json_file:\n",
        "  json_file.write(model_json)\n",
        "  \n",
        "model_type_2_0.save_weights('model_type_2_0.h5')"
      ],
      "execution_count": 0,
      "outputs": []
    },
    {
      "cell_type": "markdown",
      "metadata": {
        "id": "b51dxRlaIX10",
        "colab_type": "text"
      },
      "source": [
        "type three, with batch-normalization"
      ]
    },
    {
      "cell_type": "code",
      "metadata": {
        "id": "pENMIvCw_xsm",
        "colab_type": "code",
        "outputId": "28eaf19a-9037-4339-a97d-5e8755884f37",
        "colab": {
          "base_uri": "https://localhost:8080/",
          "height": 573
        }
      },
      "source": [
        "#type 3 with batch-normalization\n",
        "model_type_3_1 = Sequential()\n",
        "\n",
        "model_type_3_1.add(Conv2D(128, (3,3),\n",
        "                   padding='same',\n",
        "                   input_shape=x_train.shape[1:],\n",
        "                   activation='relu'))#128\n",
        "\n",
        "keras.layers.BatchNormalization(axis=1,\n",
        "                                momentum=0.9,\n",
        "                                epsilon=0.001,\n",
        "                                center=True,\n",
        "                                scale=True,\n",
        "                                beta_initializer='zeros',\n",
        "                                gamma_initializer='ones',\n",
        "                                moving_mean_initializer='zeros',\n",
        "                                moving_variance_initializer='ones',\n",
        "                                beta_regularizer=None,\n",
        "                                gamma_regularizer=None,\n",
        "                                beta_constraint=None,\n",
        "                                gamma_constraint=None)#B\n",
        "\n",
        "model_type_3_1.add(Conv2D(64, (3,3),\n",
        "                   padding='same',\n",
        "                   activation='relu'))#64\n",
        "\n",
        "\n",
        "keras.layers.BatchNormalization(axis=1,\n",
        "                                momentum=0.9,\n",
        "                                epsilon=0.001,\n",
        "                                center=True,\n",
        "                                scale=True,\n",
        "                                beta_initializer='zeros',\n",
        "                                gamma_initializer='ones',\n",
        "                                moving_mean_initializer='zeros',\n",
        "                                moving_variance_initializer='ones',\n",
        "                                beta_regularizer=None,\n",
        "                                gamma_regularizer=None,\n",
        "                                beta_constraint=None,\n",
        "                                gamma_constraint=None)#B\n",
        "\n",
        "model_type_3_1.add(MaxPooling2D(pool_size=(2,2)))#M\n",
        "\n",
        "\n",
        "model_type_3_1.add(Conv2D(64, (3,3),\n",
        "                   padding='same',\n",
        "                   activation='relu'))#64\n",
        "\n",
        "keras.layers.BatchNormalization(axis=1,\n",
        "                                momentum=0.9,\n",
        "                                epsilon=0.001,\n",
        "                                center=True,\n",
        "                                scale=True,\n",
        "                                beta_initializer='zeros',\n",
        "                                gamma_initializer='ones',\n",
        "                                moving_mean_initializer='zeros',\n",
        "                                moving_variance_initializer='ones',\n",
        "                                beta_regularizer=None,\n",
        "                                gamma_regularizer=None,\n",
        "                                beta_constraint=None,\n",
        "                                gamma_constraint=None)#B\n",
        "\n",
        "model_type_3_1.add(Conv2D(32, (3,3),\n",
        "                   padding='same',\n",
        "                   activation='relu'))#32\n",
        "\n",
        "keras.layers.BatchNormalization(axis=1,\n",
        "                                momentum=0.9,\n",
        "                                epsilon=0.001,\n",
        "                                center=True,\n",
        "                                scale=True,\n",
        "                                beta_initializer='zeros',\n",
        "                                gamma_initializer='ones',\n",
        "                                moving_mean_initializer='zeros',\n",
        "                                moving_variance_initializer='ones',\n",
        "                                beta_regularizer=None,\n",
        "                                gamma_regularizer=None,\n",
        "                                beta_constraint=None,\n",
        "                                gamma_constraint=None)#B\n",
        "\n",
        "model_type_3_1.add(MaxPooling2D(pool_size=(2,2)))#M\n",
        "\n",
        "\n",
        "model_type_3_1.add(Flatten())\n",
        "\n",
        "'''\n",
        "model_type_3_1.add(Dense(16, activation='softmax'))\n",
        "'''\n",
        "\n",
        "model_type_3_1.add(Dense(100))\n",
        "\n",
        "model_type_3_1.add(ReLU())\n",
        "\n",
        "model_type_3_1.add(Dropout(0.5))\n",
        "\n",
        "model_type_3_1.add(Dense(100))\n",
        "\n",
        "model_type_3_1.add(Dense(5, activation='softmax'))\n",
        "\n",
        "#model_type_3_1.add(Softmax())\n",
        "\n",
        "model_type_3_1.compile(loss='sparse_categorical_crossentropy',\n",
        "                       optimizer='sgd',\n",
        "                       metrics=['accuracy']\n",
        "                      )\n",
        "\n",
        "\n",
        "since = time.time()\n",
        "\n",
        "\n",
        "history_3_1 = model_type_3_1.fit(x_train, y_train,\n",
        "          batch_size=16,\n",
        "          epochs=15,\n",
        "          validation_split=0.1)\n",
        "\n",
        "\n",
        "time_elapsed = time.time() - since\n",
        "print('Training complete in {:.0f}m {:.0f}s'.format(time_elapsed // 60, time_elapsed % 60))\n"
      ],
      "execution_count": 0,
      "outputs": [
        {
          "output_type": "stream",
          "text": [
            "Train on 7668 samples, validate on 853 samples\n",
            "Epoch 1/15\n",
            "7668/7668 [==============================] - 80s 10ms/sample - loss: 1.5306 - acc: 0.2981 - val_loss: 1.3617 - val_acc: 0.3494\n",
            "Epoch 2/15\n",
            "7668/7668 [==============================] - 81s 11ms/sample - loss: 0.9005 - acc: 0.6321 - val_loss: 0.2286 - val_acc: 0.9308\n",
            "Epoch 3/15\n",
            "7668/7668 [==============================] - 81s 11ms/sample - loss: 0.2828 - acc: 0.8998 - val_loss: 0.7664 - val_acc: 0.7796\n",
            "Epoch 4/15\n",
            "7668/7668 [==============================] - 81s 11ms/sample - loss: 0.1292 - acc: 0.9553 - val_loss: 0.0182 - val_acc: 0.9930\n",
            "Epoch 5/15\n",
            "7668/7668 [==============================] - 81s 11ms/sample - loss: 0.0811 - acc: 0.9742 - val_loss: 0.0302 - val_acc: 0.9871\n",
            "Epoch 6/15\n",
            "7668/7668 [==============================] - 81s 11ms/sample - loss: 0.0510 - acc: 0.9820 - val_loss: 0.0090 - val_acc: 0.9977\n",
            "Epoch 7/15\n",
            "7668/7668 [==============================] - 81s 11ms/sample - loss: 0.0428 - acc: 0.9841 - val_loss: 0.0046 - val_acc: 0.9977\n",
            "Epoch 8/15\n",
            "7668/7668 [==============================] - 81s 11ms/sample - loss: 0.0303 - acc: 0.9885 - val_loss: 0.0092 - val_acc: 0.9988\n",
            "Epoch 9/15\n",
            "7668/7668 [==============================] - 81s 11ms/sample - loss: 0.0220 - acc: 0.9936 - val_loss: 0.0050 - val_acc: 0.9977\n",
            "Epoch 10/15\n",
            "7668/7668 [==============================] - 81s 11ms/sample - loss: 0.0212 - acc: 0.9931 - val_loss: 4.7994e-04 - val_acc: 1.0000\n",
            "Epoch 11/15\n",
            "7668/7668 [==============================] - 81s 11ms/sample - loss: 0.0221 - acc: 0.9919 - val_loss: 0.0015 - val_acc: 1.0000\n",
            "Epoch 12/15\n",
            "7668/7668 [==============================] - 81s 11ms/sample - loss: 0.0181 - acc: 0.9945 - val_loss: 0.0021 - val_acc: 1.0000\n",
            "Epoch 13/15\n",
            "7668/7668 [==============================] - 81s 11ms/sample - loss: 0.0093 - acc: 0.9970 - val_loss: 0.0041 - val_acc: 0.9988\n",
            "Epoch 14/15\n",
            "7668/7668 [==============================] - 81s 11ms/sample - loss: 0.0186 - acc: 0.9936 - val_loss: 0.0063 - val_acc: 0.9988\n",
            "Epoch 15/15\n",
            "7668/7668 [==============================] - 81s 11ms/sample - loss: 0.0131 - acc: 0.9949 - val_loss: 7.6502e-04 - val_acc: 1.0000\n",
            "Training complete in 20m 20s\n"
          ],
          "name": "stdout"
        }
      ]
    },
    {
      "cell_type": "code",
      "metadata": {
        "id": "5kGKZ1ICXpTg",
        "colab_type": "code",
        "outputId": "4e9b3631-cc1d-43cb-f1e5-23f2e046452e",
        "colab": {
          "base_uri": "https://localhost:8080/",
          "height": 52
        }
      },
      "source": [
        "model_type_3_1.evaluate(x_test,y_test,\n",
        "                        batch_size=128,\n",
        "                        verbose=1,\n",
        "                       steps=None)"
      ],
      "execution_count": 0,
      "outputs": [
        {
          "output_type": "stream",
          "text": [
            "3224/3224 [==============================] - 12s 4ms/sample - loss: 13.1492 - acc: 0.4197\n"
          ],
          "name": "stdout"
        },
        {
          "output_type": "execute_result",
          "data": {
            "text/plain": [
              "[13.149206144462521, 0.419665]"
            ]
          },
          "metadata": {
            "tags": []
          },
          "execution_count": 89
        }
      ]
    },
    {
      "cell_type": "code",
      "metadata": {
        "id": "hEc3wkbeuFmn",
        "colab_type": "code",
        "outputId": "22a57df4-3bb3-48c2-c48f-c51bec9aec36",
        "colab": {
          "base_uri": "https://localhost:8080/",
          "height": 286
        }
      },
      "source": [
        "pd.DataFrame(history_3_1.history).plot()"
      ],
      "execution_count": 0,
      "outputs": [
        {
          "output_type": "execute_result",
          "data": {
            "text/plain": [
              "<matplotlib.axes._subplots.AxesSubplot at 0x7fb5dc055f98>"
            ]
          },
          "metadata": {
            "tags": []
          },
          "execution_count": 66
        },
        {
          "output_type": "display_data",
          "data": {
            "image/png": "[encoded data removed]",
            "text/plain": [
              "<Figure size 432x288 with 1 Axes>"
            ]
          },
          "metadata": {
            "tags": []
          }
        }
      ]
    },
    {
      "cell_type": "code",
      "metadata": {
        "id": "0TWGhA_gUNpf",
        "colab_type": "code",
        "outputId": "c82ac4a3-d3ed-4e3a-ffda-474c837a72c1",
        "colab": {
          "base_uri": "https://localhost:8080/",
          "height": 225
        }
      },
      "source": [
        "y_pred_3_1 = model_type_3_1.predict(x_test)\n",
        "print(metrics.classification_report(y_test, y_pred_3_1.argmax(axis=1)))\n"
      ],
      "execution_count": 0,
      "outputs": [
        {
          "output_type": "stream",
          "text": [
            "              precision    recall  f1-score   support\n",
            "\n",
            "           0       0.45      0.46      0.46       693\n",
            "           1       0.30      1.00      0.47       646\n",
            "           2       0.97      0.17      0.29       651\n",
            "           3       0.99      0.23      0.37       613\n",
            "           4       0.95      0.23      0.37       621\n",
            "\n",
            "    accuracy                           0.42      3224\n",
            "   macro avg       0.73      0.42      0.39      3224\n",
            "weighted avg       0.73      0.42      0.39      3224\n",
            "\n"
          ],
          "name": "stdout"
        }
      ]
    },
    {
      "cell_type": "code",
      "metadata": {
        "id": "2kX46CEA8FXc",
        "colab_type": "code",
        "outputId": "ad6ec821-1db4-47ea-fb2f-6bc3087112ce",
        "colab": {
          "base_uri": "https://localhost:8080/",
          "height": 34
        }
      },
      "source": [
        "acc = metrics.accuracy_score(y_test, y_pred_3_1.argmax(axis=1))\n",
        "acc"
      ],
      "execution_count": 0,
      "outputs": [
        {
          "output_type": "execute_result",
          "data": {
            "text/plain": [
              "0.41966501240694787"
            ]
          },
          "metadata": {
            "tags": []
          },
          "execution_count": 93
        }
      ]
    },
    {
      "cell_type": "code",
      "metadata": {
        "id": "6GGCtIGZUTss",
        "colab_type": "code",
        "outputId": "05ff71ad-8443-48f1-f8c1-7adc2ba7d6d7",
        "colab": {
          "base_uri": "https://localhost:8080/",
          "height": 467
        }
      },
      "source": [
        "plot_confusion_matrix(metrics.confusion_matrix(y_test,y_pred_3_1.argmax(axis=1)),['c0','c1','c2','c3','c4'])"
      ],
      "execution_count": 0,
      "outputs": [
        {
          "output_type": "display_data",
          "data": {
            "image/png": "[encoded data removed]",
            "text/plain": [
              "<Figure size 576x432 with 2 Axes>"
            ]
          },
          "metadata": {
            "tags": []
          }
        }
      ]
    },
    {
      "cell_type": "code",
      "metadata": {
        "id": "EZlBQhmTIeP-",
        "colab_type": "code",
        "colab": {}
      },
      "source": [
        " model_json = model_type_3_1.to_json()\n",
        "with open('model_type_3_1','w') as json_file:\n",
        "  json_file.write(model_json)\n",
        "  \n",
        "model_type_3_1.save_weights('model_type_3_1.h5')"
      ],
      "execution_count": 0,
      "outputs": []
    },
    {
      "cell_type": "code",
      "metadata": {
        "id": "nP5dD1Ur70WE",
        "colab_type": "code",
        "colab": {}
      },
      "source": [
        ""
      ],
      "execution_count": 0,
      "outputs": []
    }
  ]
}