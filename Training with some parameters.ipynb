{
  "nbformat": 4,
  "nbformat_minor": 0,
  "metadata": {
    "colab": {
      "name": "backup_27_06_2019.ipynb",
      "provenance": [],
      "collapsed_sections": [],
      "include_colab_link": true
    },
    "kernelspec": {
      "name": "python3",
      "display_name": "Python 3"
    },
    "accelerator": "GPU"
  },
  "cells": [
    {
      "cell_type": "markdown",
      "metadata": {
        "id": "view-in-github",
        "colab_type": "text"
      },
      "source": [
        "<a href=\"https://colab.research.google.com/github/luan1199/colab_projects/blob/master/Training%20with%20some%20parameters.ipynb\" target=\"_parent\"><img src=\"https://colab.research.google.com/assets/colab-badge.svg\" alt=\"Open In Colab\"/></a>"
      ]
    },
    {
      "cell_type": "code",
      "metadata": {
        "id": "q2YJi_aVJyjr",
        "colab_type": "code",
        "outputId": "86f54539-4d3b-43f8-fd16-359933b4b2ee",
        "colab": {
          "base_uri": "https://localhost:8080/",
          "height": 141
        }
      },
      "source": [
        "from google.colab import drive\n",
        "drive.mount('/content/drive')\n",
        "\n",
        "import numpy as np\n",
        "from tensorflow.keras.models import Sequential\n",
        "from tensorflow.keras.layers import Dense, Dropout, Activation, Flatten, Conv2D, MaxPooling2D, ReLU, Softmax\n",
        "import tensorflow as tf\n",
        "import cv2\n",
        "import os\n",
        "import time\n",
        "import random\n",
        "from keras.utils.np_utils import to_categorical\n",
        "import glob\n",
        "from tqdm import tqdm\n",
        "import keras\n",
        "from keras.models import model_from_json\n",
        "from keras.models import load_model\n",
        "from keras import layers\n",
        "from sklearn.metrics import confusion_matrix\n",
        "from tensorflow.keras.callbacks import EarlyStopping\n",
        "from keras.preprocessing.image import ImageDataGenerator\n",
        "import matplotlib.pyplot as plt\n",
        "from keras import optimizers"
      ],
      "execution_count": 0,
      "outputs": [
        {
          "output_type": "stream",
          "text": [
            "Go to this URL in a browser: https://accounts.google.com/o/oauth2/auth?client_id=947318989803-6bn6qk8qdgf4n4g3pfee6491hc0brc4i.apps.googleusercontent.com&redirect_uri=urn%3Aietf%3Awg%3Aoauth%3A2.0%3Aoob&scope=email%20https%3A%2F%2Fwww.googleapis.com%2Fauth%2Fdocs.test%20https%3A%2F%2Fwww.googleapis.com%2Fauth%2Fdrive%20https%3A%2F%2Fwww.googleapis.com%2Fauth%2Fdrive.photos.readonly%20https%3A%2F%2Fwww.googleapis.com%2Fauth%2Fpeopleapi.readonly&response_type=code\n",
            "\n",
            "Enter your authorization code:\n",
            "··········\n",
            "Mounted at /content/drive\n"
          ],
          "name": "stdout"
        },
        {
          "output_type": "stream",
          "text": [
            "Using TensorFlow backend.\n"
          ],
          "name": "stderr"
        }
      ]
    },
    {
      "cell_type": "code",
      "metadata": {
        "id": "eiDBT96iUaVl",
        "colab_type": "code",
        "outputId": "0b3791ba-f807-47fd-9cfb-180d3ad0485e",
        "colab": {
          "base_uri": "https://localhost:8080/",
          "height": 286
        }
      },
      "source": [
        "plt.plot([1,2,3,4,5,6], [91.9, 88.2, 71, 81.3, 75.9, 96.3])"
      ],
      "execution_count": 0,
      "outputs": [
        {
          "output_type": "execute_result",
          "data": {
            "text/plain": [
              "[<matplotlib.lines.Line2D at 0x7fcced3bb780>]"
            ]
          },
          "metadata": {
            "tags": []
          },
          "execution_count": 3
        },
        {
          "output_type": "display_data",
          "data": {
            "image/png": "[encoded data removed]",
            "text/plain": [
              "<Figure size 432x288 with 1 Axes>"
            ]
          },
          "metadata": {
            "tags": []
          }
        }
      ]
    },
    {
      "cell_type": "code",
      "metadata": {
        "id": "LBbMkVYjPRJ7",
        "colab_type": "code",
        "outputId": "6f814800-7581-466b-88ab-777942dbf221",
        "colab": {
          "base_uri": "https://localhost:8080/",
          "height": 104
        }
      },
      "source": [
        "training_data = []\n",
        "img_size = 224\n",
        "    \n",
        "DATADIR = \"drive/My Drive/separated_imgs/train/\"\n",
        "CATEGORIES = [\"c0/\",\"c1/\",\"c2/\",\"c3/\",\"c4/\"]\n",
        "'''\n",
        "def create_training_data():\n",
        "    for category in CATEGORIES:  # do dogs and cats\n",
        "        print('loading...')\n",
        "        path = os.path.join(DATADIR,category)  # create path to dogs and cats\n",
        "        class_num = CATEGORIES.index(category)  # get the classification  (0 or a 1). 0=dog 1=cat\n",
        "        for img in glob.glob(path+ \"*\"):  # iterate over each image per dogs and cats\n",
        "            try:\n",
        "                img_array = cv2.imread(img, cv2.IMREAD_GRAYSCALE) #os.path.join(img), cv2.IMREAD_GRAYSCALE)<<<<<<<<<<-\n",
        "                new_array = cv2.resize(img_array, (img_size, img_size))\n",
        "                training_data.append([new_array, class_num])\n",
        "\n",
        "            except Exception as e:\n",
        "                print(e)\n",
        "        \n",
        "\n",
        "        for img in glob.glob(path+ \"*\"):#adicionando imagens flipadas.\n",
        "            try:\n",
        "                img_array = cv2.imread(img, cv2.IMREAD_GRAYSCALE)\n",
        "                flipped_array = np.fliplr(img_array)\n",
        "                flipped_array = cv2.resize(img_array, (img_size, img_size))\n",
        "                training_data.append([flipped_array, class_num])\n",
        "            except Exception as e:\n",
        "                print(e)\n",
        "'''\n",
        "def create_training_data():\n",
        "\n",
        "  for category in CATEGORIES:  # do dogs and cats\n",
        "      print('loading...')\n",
        "      path = os.path.join(DATADIR,category)  # create path to dogs and cats\n",
        "      class_num = CATEGORIES.index(category)  # get the classification  (0 or a 1). 0=dog 1=cat\n",
        "      for img in glob.glob(path+ \"*\"):  # iterate over each image per dogs and cats\n",
        "          try:\n",
        "              img_array = cv2.imread(img, cv2.IMREAD_COLOR) #os.path.join(img), cv2.IMREAD_GRAYSCALE)<<<<<<<<<<-\n",
        "              new_array = cv2.resize(img_array, (img_size, img_size),3)\n",
        "              training_data.append([img_array, class_num])\n",
        "          except Exception as e:\n",
        "              print(e)\n",
        "\n",
        "  \n",
        "  \n",
        "create_training_data()\n",
        "\n",
        "\n",
        "random.shuffle(training_data)"
      ],
      "execution_count": 0,
      "outputs": [
        {
          "output_type": "stream",
          "text": [
            "loading...\n",
            "loading...\n",
            "loading...\n",
            "loading...\n",
            "loading...\n"
          ],
          "name": "stdout"
        }
      ]
    },
    {
      "cell_type": "code",
      "metadata": {
        "id": "EgOlSZwKO-LA",
        "colab_type": "code",
        "outputId": "17959a7c-87c3-4682-fc6a-640a80289488",
        "colab": {
          "base_uri": "https://localhost:8080/",
          "height": 361
        }
      },
      "source": [
        "\n",
        "testing_data = []\n",
        "\n",
        "DATADIR2 = \"drive/My Drive/separated_imgs/val/\"\n",
        "\n",
        "def create_testing_data():\n",
        "  for category in CATEGORIES:\n",
        "    print('loading, my dude...')\n",
        "    path = os.path.join(DATADIR2, category)\n",
        "    class_num = CATEGORIES.index(category)\n",
        "    for img in glob.glob(path+ \"*\"):\n",
        "        try:\n",
        "            img_array = cv2.imread(img, cv2.IMREAD_REDUCED_COLOR_4) #os.path.join(img), cv2.IMREAD_GRAYSCALE)<<<<<<<<<<-\n",
        "            new_array = cv2.resize(img_array, (img_size, img_size))\n",
        "            testing_data.append([new_array, class_num])\n",
        "        except Exception as e:\n",
        "          print(e)\n",
        "create_testing_data()"
      ],
      "execution_count": 0,
      "outputs": [
        {
          "output_type": "stream",
          "text": [
            "loading, my dude...\n"
          ],
          "name": "stdout"
        },
        {
          "output_type": "error",
          "ename": "KeyboardInterrupt",
          "evalue": "ignored",
          "traceback": [
            "\u001b[0;31m---------------------------------------------------------------------------\u001b[0m",
            "\u001b[0;31mKeyboardInterrupt\u001b[0m                         Traceback (most recent call last)",
            "\u001b[0;32m<ipython-input-8-4573952d0d54>\u001b[0m in \u001b[0;36m<module>\u001b[0;34m()\u001b[0m\n\u001b[1;32m     16\u001b[0m         \u001b[0;32mexcept\u001b[0m \u001b[0mException\u001b[0m \u001b[0;32mas\u001b[0m \u001b[0me\u001b[0m\u001b[0;34m:\u001b[0m\u001b[0;34m\u001b[0m\u001b[0;34m\u001b[0m\u001b[0m\n\u001b[1;32m     17\u001b[0m           \u001b[0mprint\u001b[0m\u001b[0;34m(\u001b[0m\u001b[0me\u001b[0m\u001b[0;34m)\u001b[0m\u001b[0;34m\u001b[0m\u001b[0;34m\u001b[0m\u001b[0m\n\u001b[0;32m---> 18\u001b[0;31m \u001b[0mcreate_testing_data\u001b[0m\u001b[0;34m(\u001b[0m\u001b[0;34m)\u001b[0m\u001b[0;34m\u001b[0m\u001b[0;34m\u001b[0m\u001b[0m\n\u001b[0m",
            "\u001b[0;32m<ipython-input-8-4573952d0d54>\u001b[0m in \u001b[0;36mcreate_testing_data\u001b[0;34m()\u001b[0m\n\u001b[1;32m     12\u001b[0m         \u001b[0;32mtry\u001b[0m\u001b[0;34m:\u001b[0m\u001b[0;34m\u001b[0m\u001b[0;34m\u001b[0m\u001b[0m\n\u001b[1;32m     13\u001b[0m             \u001b[0mimg_array\u001b[0m \u001b[0;34m=\u001b[0m \u001b[0mcv2\u001b[0m\u001b[0;34m.\u001b[0m\u001b[0mimread\u001b[0m\u001b[0;34m(\u001b[0m\u001b[0mimg\u001b[0m\u001b[0;34m,\u001b[0m \u001b[0mcv2\u001b[0m\u001b[0;34m.\u001b[0m\u001b[0mIMREAD_REDUCED_COLOR_4\u001b[0m\u001b[0;34m)\u001b[0m \u001b[0;31m#os.path.join(img), cv2.IMREAD_GRAYSCALE)<<<<<<<<<<-\u001b[0m\u001b[0;34m\u001b[0m\u001b[0;34m\u001b[0m\u001b[0m\n\u001b[0;32m---> 14\u001b[0;31m             \u001b[0mnew_array\u001b[0m \u001b[0;34m=\u001b[0m \u001b[0mcv2\u001b[0m\u001b[0;34m.\u001b[0m\u001b[0mresize\u001b[0m\u001b[0;34m(\u001b[0m\u001b[0mimg_array\u001b[0m\u001b[0;34m,\u001b[0m \u001b[0;34m(\u001b[0m\u001b[0mimg_size\u001b[0m\u001b[0;34m,\u001b[0m \u001b[0mimg_size\u001b[0m\u001b[0;34m)\u001b[0m\u001b[0;34m)\u001b[0m\u001b[0;34m\u001b[0m\u001b[0;34m\u001b[0m\u001b[0m\n\u001b[0m\u001b[1;32m     15\u001b[0m             \u001b[0mtesting_data\u001b[0m\u001b[0;34m.\u001b[0m\u001b[0mappend\u001b[0m\u001b[0;34m(\u001b[0m\u001b[0;34m[\u001b[0m\u001b[0mnew_array\u001b[0m\u001b[0;34m,\u001b[0m \u001b[0mclass_num\u001b[0m\u001b[0;34m]\u001b[0m\u001b[0;34m)\u001b[0m\u001b[0;34m\u001b[0m\u001b[0;34m\u001b[0m\u001b[0m\n\u001b[1;32m     16\u001b[0m         \u001b[0;32mexcept\u001b[0m \u001b[0mException\u001b[0m \u001b[0;32mas\u001b[0m \u001b[0me\u001b[0m\u001b[0;34m:\u001b[0m\u001b[0;34m\u001b[0m\u001b[0;34m\u001b[0m\u001b[0m\n",
            "\u001b[0;31mKeyboardInterrupt\u001b[0m: "
          ]
        }
      ]
    },
    {
      "cell_type": "code",
      "metadata": {
        "id": "87L_K7sRJNse",
        "colab_type": "code",
        "colab": {}
      },
      "source": [
        "#training data\n",
        "    \n",
        "x_train = []\n",
        "y_train = []\n",
        "    \n",
        "for features,label in training_data:\n",
        "  x_train.append(features)\n",
        "  y_train.append(label)\n",
        "    \n",
        "x_train = np.array(x_train).reshape(-1, img_size, img_size, 3)\n",
        "\n",
        "\n",
        "\n",
        "x_train = x_train /255.0\n",
        "\n"
      ],
      "execution_count": 0,
      "outputs": []
    },
    {
      "cell_type": "code",
      "metadata": {
        "id": "qsX8VJeOCGq0",
        "colab_type": "code",
        "outputId": "d94cb7c8-985c-44dc-e1af-5364e50fabdf",
        "colab": {
          "base_uri": "https://localhost:8080/",
          "height": 34
        }
      },
      "source": [
        "x_train[0].shape"
      ],
      "execution_count": 0,
      "outputs": [
        {
          "output_type": "execute_result",
          "data": {
            "text/plain": [
              "(120, 160, 3)"
            ]
          },
          "metadata": {
            "tags": []
          },
          "execution_count": 19
        }
      ]
    },
    {
      "cell_type": "code",
      "metadata": {
        "id": "3riHqvMYQO4V",
        "colab_type": "code",
        "colab": {}
      },
      "source": [
        "#test data\n",
        "x_test = []\n",
        "y_test = []\n",
        "    \n",
        "for features,label in testing_data:\n",
        "    x_test.append(features)\n",
        "    y_test.append(label)\n",
        "    \n",
        "x_test = np.array(x_test)reshape(-1, img_size, img_size, 3)\n",
        "\n",
        "x_test = x_test/255.0"
      ],
      "execution_count": 0,
      "outputs": []
    },
    {
      "cell_type": "markdown",
      "metadata": {
        "id": "055WsG0vH-Ys",
        "colab_type": "text"
      },
      "source": [
        "Type one, no batch-normalization"
      ]
    },
    {
      "cell_type": "code",
      "metadata": {
        "id": "Yykpdz8hPTFm",
        "colab_type": "code",
        "outputId": "632f45aa-19d9-4d08-baff-afba79f47acc",
        "colab": {
          "base_uri": "https://localhost:8080/",
          "height": 593
        }
      },
      "source": [
        "#type 1 without batch-normalization\n",
        "\n",
        "es = EarlyStopping(monitor='val_loss',\n",
        "                   mode='min' ,\n",
        "                   verbose=1,\n",
        "                  patience=3)\n",
        "\n",
        "\n",
        "model_type_1_0 = Sequential()\n",
        "\n",
        "model_type_1_0.add(Conv2D(64, (3,3),\n",
        "          padding='same',\n",
        "          input_shape=x_train.shape[1:], activation='relu'))#64\n",
        "\n",
        "model_type_1_0.add(MaxPooling2D(pool_size=(2,2)))#M\n",
        "\n",
        "model_type_1_0.add(Flatten())\n",
        "\n",
        "model_type_1_0.add(Dense(100))\n",
        "\n",
        "model_type_1_0.add(ReLU())\n",
        "\n",
        "model_type_1_0.add(Dropout(0.5))\n",
        "\n",
        "model_type_1_0.add(Dense(100))\n",
        "\n",
        "model_type_1_0.add(Dense(5, activation='softmax'))\n",
        "\n",
        "#model_type_1_0.add(Softmax())\n",
        "\n",
        "sgd = tf.keras.optimizers.SGD(lr=0.01,\n",
        "                           decay=0.0,\n",
        "                           momentum=0.9,\n",
        "                           nesterov=True)\n",
        "\n",
        "model_type_1_0.compile(loss='sparse_categorical_crossentropy',\n",
        "                       optimizer=sgd,\n",
        "                       metrics=['accuracy'])\n",
        "\n",
        "\n",
        "since = time.time()\n",
        "\n",
        "\n",
        "history_1_0 = model_type_1_0.fit(x_train, y_train, batch_size=16,\n",
        "                  epochs=15,\n",
        "                  callbacks=[es],\n",
        "                  validation_split=0.1)\n",
        "\n",
        "time_elapsed = time.time() - since\n",
        "\n",
        "print('Training complete in {:.0f}m {:.0f}s'.format(time_elapsed // 60, time_elapsed % 60))"
      ],
      "execution_count": 0,
      "outputs": [
        {
          "output_type": "stream",
          "text": [
            "Train on 7668 samples, validate on 853 samples\n",
            "Epoch 1/15\n",
            "7668/7668 [==============================] - 15s 2ms/sample - loss: 0.7158 - acc: 0.7167 - val_loss: 0.0946 - val_acc: 0.9613\n",
            "Epoch 2/15\n",
            "7668/7668 [==============================] - 14s 2ms/sample - loss: 0.1822 - acc: 0.9417 - val_loss: 0.0161 - val_acc: 0.9953\n",
            "Epoch 3/15\n",
            "7668/7668 [==============================] - 14s 2ms/sample - loss: 0.1027 - acc: 0.9658 - val_loss: 0.0042 - val_acc: 0.9977\n",
            "Epoch 4/15\n",
            "7668/7668 [==============================] - 14s 2ms/sample - loss: 0.0785 - acc: 0.9737 - val_loss: 0.0134 - val_acc: 0.9977\n",
            "Epoch 5/15\n",
            "7668/7668 [==============================] - 14s 2ms/sample - loss: 0.0544 - acc: 0.9815 - val_loss: 0.0040 - val_acc: 0.9977\n",
            "Epoch 6/15\n",
            "7668/7668 [==============================] - 14s 2ms/sample - loss: 0.0564 - acc: 0.9800 - val_loss: 0.0066 - val_acc: 0.9988\n",
            "Epoch 7/15\n",
            "7668/7668 [==============================] - 14s 2ms/sample - loss: 0.0468 - acc: 0.9860 - val_loss: 0.0100 - val_acc: 0.9965\n",
            "Epoch 8/15\n",
            "7668/7668 [==============================] - 14s 2ms/sample - loss: 0.0437 - acc: 0.9867 - val_loss: 0.0030 - val_acc: 0.9988\n",
            "Epoch 9/15\n",
            "7668/7668 [==============================] - 14s 2ms/sample - loss: 0.0249 - acc: 0.9930 - val_loss: 0.0032 - val_acc: 0.9977\n",
            "Epoch 10/15\n",
            "7668/7668 [==============================] - 14s 2ms/sample - loss: 0.0313 - acc: 0.9896 - val_loss: 9.5266e-04 - val_acc: 1.0000\n",
            "Epoch 11/15\n",
            "7668/7668 [==============================] - 14s 2ms/sample - loss: 0.0337 - acc: 0.9893 - val_loss: 3.8994e-04 - val_acc: 1.0000\n",
            "Epoch 12/15\n",
            "7668/7668 [==============================] - 14s 2ms/sample - loss: 0.0189 - acc: 0.9935 - val_loss: 0.0022 - val_acc: 0.9988\n",
            "Epoch 13/15\n",
            "7668/7668 [==============================] - 14s 2ms/sample - loss: 0.0210 - acc: 0.9928 - val_loss: 2.8454e-04 - val_acc: 1.0000\n",
            "Epoch 14/15\n",
            "7668/7668 [==============================] - 14s 2ms/sample - loss: 0.0322 - acc: 0.9905 - val_loss: 6.7920e-04 - val_acc: 1.0000\n",
            "Epoch 15/15\n",
            "7668/7668 [==============================] - 14s 2ms/sample - loss: 0.0147 - acc: 0.9956 - val_loss: 2.5754e-04 - val_acc: 1.0000\n",
            "Training complete in 3m 34s\n"
          ],
          "name": "stdout"
        }
      ]
    },
    {
      "cell_type": "code",
      "metadata": {
        "id": "0OUP13X6Cu5p",
        "colab_type": "code",
        "outputId": "7f559da9-36ef-48e8-d713-6ce1cb6b8f2b",
        "colab": {
          "base_uri": "https://localhost:8080/",
          "height": 286
        }
      },
      "source": [
        "import pandas as pd\n",
        "\n",
        "\n",
        "pd.DataFrame(history_1_0.history).plot()"
      ],
      "execution_count": 0,
      "outputs": [
        {
          "output_type": "execute_result",
          "data": {
            "text/plain": [
              "<matplotlib.axes._subplots.AxesSubplot at 0x7f8d0e317128>"
            ]
          },
          "metadata": {
            "tags": []
          },
          "execution_count": 31
        },
        {
          "output_type": "display_data",
          "data": {
            "image/png": "[encoded data removed]",
            "text/plain": [
              "<Figure size 432x288 with 1 Axes>"
            ]
          },
          "metadata": {
            "tags": []
          }
        }
      ]
    },
    {
      "cell_type": "code",
      "metadata": {
        "id": "ZTzFJQEaIxV3",
        "colab_type": "code",
        "outputId": "7c219e03-4dbc-4e27-f328-5f9c245593fb",
        "colab": {
          "base_uri": "https://localhost:8080/",
          "height": 219
        }
      },
      "source": [
        "model_type_1_0.evaluate(x_test,y_test,\n",
        "                        batch_size=16,\n",
        "                        verbose=1,\n",
        "                        steps=None)"
      ],
      "execution_count": 0,
      "outputs": [
        {
          "output_type": "error",
          "ename": "NameError",
          "evalue": "ignored",
          "traceback": [
            "\u001b[0;31m---------------------------------------------------------------------------\u001b[0m",
            "\u001b[0;31mNameError\u001b[0m                                 Traceback (most recent call last)",
            "\u001b[0;32m<ipython-input-4-9cd2431e5bb5>\u001b[0m in \u001b[0;36m<module>\u001b[0;34m()\u001b[0m\n\u001b[0;32m----> 1\u001b[0;31m model_type_1_0.evaluate(x_test,y_test,\n\u001b[0m\u001b[1;32m      2\u001b[0m                         \u001b[0mbatch_size\u001b[0m\u001b[0;34m=\u001b[0m\u001b[0;36m16\u001b[0m\u001b[0;34m,\u001b[0m\u001b[0;34m\u001b[0m\u001b[0;34m\u001b[0m\u001b[0m\n\u001b[1;32m      3\u001b[0m                         \u001b[0mverbose\u001b[0m\u001b[0;34m=\u001b[0m\u001b[0;36m1\u001b[0m\u001b[0;34m,\u001b[0m\u001b[0;34m\u001b[0m\u001b[0;34m\u001b[0m\u001b[0m\n\u001b[1;32m      4\u001b[0m                         steps=None)\n",
            "\u001b[0;31mNameError\u001b[0m: name 'model_type_1_0' is not defined"
          ]
        }
      ]
    },
    {
      "cell_type": "code",
      "metadata": {
        "id": "09E-W2-VLL_i",
        "colab_type": "code",
        "colab": {}
      },
      "source": [
        "y_pred_1_0 = model_type_1_0.predict(x_test)\n",
        "y_pred_1_0 = y_pred_1_0.argmax(axis=1)"
      ],
      "execution_count": 0,
      "outputs": []
    },
    {
      "cell_type": "code",
      "metadata": {
        "id": "dGpSwyAaLUOf",
        "colab_type": "code",
        "outputId": "abf7396b-c14c-42f5-c871-c2492642923d",
        "colab": {
          "base_uri": "https://localhost:8080/",
          "height": 104
        }
      },
      "source": [
        "from sklearn import metrics\n",
        "\n",
        "confusion_1_0 = metrics.confusion_matrix(y_test,y_pred_1_0)\n",
        "confusion_1_0"
      ],
      "execution_count": 0,
      "outputs": [
        {
          "output_type": "execute_result",
          "data": {
            "text/plain": [
              "array([[598,  86,   5,   4,   0],\n",
              "       [276, 319,   0,  51,   0],\n",
              "       [348, 168, 129,   5,   1],\n",
              "       [296, 176,   0, 138,   3],\n",
              "       [416,  65,   0,   0, 140]])"
            ]
          },
          "metadata": {
            "tags": []
          },
          "execution_count": 33
        }
      ]
    },
    {
      "cell_type": "code",
      "metadata": {
        "id": "6UlzV8KCL2pP",
        "colab_type": "code",
        "outputId": "986e5a3b-5bcc-40b9-c162-8e03b9d87d12",
        "colab": {
          "base_uri": "https://localhost:8080/",
          "height": 225
        }
      },
      "source": [
        "print(metrics.classification_report(y_test,y_pred))"
      ],
      "execution_count": 0,
      "outputs": [
        {
          "output_type": "stream",
          "text": [
            "              precision    recall  f1-score   support\n",
            "\n",
            "           0       0.31      0.86      0.46       693\n",
            "           1       0.39      0.49      0.44       646\n",
            "           2       0.96      0.20      0.33       651\n",
            "           3       0.70      0.23      0.34       613\n",
            "           4       0.97      0.23      0.37       621\n",
            "\n",
            "    accuracy                           0.41      3224\n",
            "   macro avg       0.67      0.40      0.39      3224\n",
            "weighted avg       0.66      0.41      0.39      3224\n",
            "\n"
          ],
          "name": "stdout"
        }
      ]
    },
    {
      "cell_type": "code",
      "metadata": {
        "id": "uNUXTh46M09P",
        "colab_type": "code",
        "outputId": "36fecb8d-5b1f-4efc-e892-bffe57d65b22",
        "colab": {
          "base_uri": "https://localhost:8080/",
          "height": 467
        }
      },
      "source": [
        "import numpy as np\n",
        "\n",
        "\n",
        "def plot_confusion_matrix(cm,\n",
        "                          target_names,\n",
        "                          title='Confusion matrix',\n",
        "                          cmap=None,\n",
        "                          normalize=True):\n",
        "    \"\"\"\n",
        "    given a sklearn confusion matrix (cm), make a nice plot\n",
        "\n",
        "    Arguments\n",
        "    ---------\n",
        "    cm:           confusion matrix from sklearn.metrics.confusion_matrix\n",
        "\n",
        "    target_names: given classification classes such as [0, 1, 2]\n",
        "                  the class names, for example: ['high', 'medium', 'low']\n",
        "\n",
        "    title:        the text to display at the top of the matrix\n",
        "\n",
        "    cmap:         the gradient of the values displayed from matplotlib.pyplot.cm\n",
        "                  see http://matplotlib.org/examples/color/colormaps_reference.html\n",
        "                  plt.get_cmap('jet') or plt.cm.Blues\n",
        "\n",
        "    normalize:    If False, plot the raw numbers\n",
        "                  If True, plot the proportions\n",
        "\n",
        "    Usage\n",
        "    -----\n",
        "    plot_confusion_matrix(cm           = cm,                  # confusion matrix created by\n",
        "                                                              # sklearn.metrics.confusion_matrix\n",
        "                          normalize    = True,                # show proportions\n",
        "                          target_names = y_labels_vals,       # list of names of the classes\n",
        "                          title        = best_estimator_name) # title of graph\n",
        "\n",
        "    Citiation\n",
        "    ---------\n",
        "    http://scikit-learn.org/stable/auto_examples/model_selection/plot_confusion_matrix.html\n",
        "\n",
        "    \"\"\"\n",
        "    import matplotlib.pyplot as plt\n",
        "    import numpy as np\n",
        "    import itertools\n",
        "\n",
        "    accuracy = np.trace(cm) / float(np.sum(cm))\n",
        "    misclass = 1 - accuracy\n",
        "\n",
        "    if cmap is None:\n",
        "        cmap = plt.get_cmap('Blues')\n",
        "\n",
        "    plt.figure(figsize=(8, 6))\n",
        "    plt.imshow(cm, interpolation='nearest', cmap=cmap)\n",
        "    plt.title(title)\n",
        "    plt.colorbar()\n",
        "\n",
        "    if target_names is not None:\n",
        "        tick_marks = np.arange(len(target_names))\n",
        "        plt.xticks(tick_marks, target_names, rotation=45)\n",
        "        plt.yticks(tick_marks, target_names)\n",
        "\n",
        "    if normalize:\n",
        "        cm = cm.astype('float') / cm.sum(axis=1)[:, np.newaxis]\n",
        "\n",
        "\n",
        "    thresh = cm.max() / 1.5 if normalize else cm.max() / 2\n",
        "    for i, j in itertools.product(range(cm.shape[0]), range(cm.shape[1])):\n",
        "        if normalize:\n",
        "            plt.text(j, i, \"{:0.4f}\".format(cm[i, j]),\n",
        "                     horizontalalignment=\"center\",\n",
        "                     color=\"white\" if cm[i, j] > thresh else \"black\")\n",
        "        else:\n",
        "            plt.text(j, i, \"{:,}\".format(cm[i, j]),\n",
        "                     horizontalalignment=\"center\",\n",
        "                     color=\"white\" if cm[i, j] > thresh else \"black\")\n",
        "\n",
        "\n",
        "    plt.tight_layout()\n",
        "    plt.ylabel('True label')\n",
        "    plt.xlabel('Predicted label\\naccuracy={:0.4f}; misclass={:0.4f}'.format(accuracy, misclass))\n",
        "    plt.show()\n",
        "plot_confusion_matrix(confusion_1_0,['c0','c1','c2','c3','c4'])"
      ],
      "execution_count": 0,
      "outputs": [
        {
          "output_type": "display_data",
          "data": {
            "image/png": "[encoded data removed]",
            "text/plain": [
              "<Figure size 576x432 with 2 Axes>"
            ]
          },
          "metadata": {
            "tags": []
          }
        }
      ]
    },
    {
      "cell_type": "code",
      "metadata": {
        "id": "HH2hBEXt6qdP",
        "colab_type": "code",
        "colab": {}
      },
      "source": [
        "model_json = model_type_1_0.to_json()\n",
        "\n",
        "with open('model_type_1_0','w') as json_file:\n",
        "  json_file.write(model_json)\n",
        "  \n",
        "model_type_1_0.save_weights('model_type_1_0.h5')"
      ],
      "execution_count": 0,
      "outputs": []
    },
    {
      "cell_type": "markdown",
      "metadata": {
        "id": "rDxMUKayIJgn",
        "colab_type": "text"
      },
      "source": [
        "Type one, with batch-normalization."
      ]
    },
    {
      "cell_type": "code",
      "metadata": {
        "id": "XdWS9d7UQ3qq",
        "colab_type": "code",
        "outputId": "55d5ee9b-d622-4208-eab3-f970d55ac459",
        "colab": {
          "base_uri": "https://localhost:8080/",
          "height": 627
        }
      },
      "source": [
        "#type 1 with batch-normalization\n",
        "model_type_1_1 = Sequential()\n",
        "\n",
        "model_type_1_1.add(Conv2D(64, (3,3),\n",
        "          padding='same',\n",
        "          input_shape=x_train.shape[1:],\n",
        "                 activation='relu'))#64\n",
        "\n",
        "keras.layers.BatchNormalization(axis=1,\n",
        "                                momentum=0.9,\n",
        "                                epsilon=0.001,\n",
        "                                center=True,\n",
        "                                scale=True,\n",
        "                                beta_initializer='zeros',\n",
        "                                gamma_initializer='ones',\n",
        "                                moving_mean_initializer='zeros',\n",
        "                                moving_variance_initializer='ones',\n",
        "                                beta_regularizer=None,\n",
        "                                gamma_regularizer=None,\n",
        "                                beta_constraint=None,\n",
        "                                gamma_constraint=None)\n",
        "\n",
        "\n",
        "model_type_1_1.add(MaxPooling2D(pool_size=(2,2)))#m\n",
        "\n",
        "\n",
        "model_type_1_1.add(Flatten())\n",
        "\n",
        "model_type_1_1.add(Dense(100))\n",
        "\n",
        "model_type_1_1.add(ReLU())\n",
        "\n",
        "model_type_1_1.add(Dropout(0.5))\n",
        "\n",
        "model_type_1_1.add(Dense(100))\n",
        "\n",
        "model_type_1_1.add(Dense(5, activation='softmax'))\n",
        "\n",
        "#model_type_1_1.add(Softmax())\n",
        "\n",
        "\n",
        "'''\n",
        "model_type_1_1.add(Dense(16, activation='softmax'))\n",
        "'''\n",
        "\n",
        "model_type_1_1.compile(loss='sparse_categorical_crossentropy',\n",
        "             optimizer='sgd',\n",
        "             metrics=['accuracy'])\n",
        "\n",
        "\n",
        "since = time.time()\n",
        "\n",
        "\n",
        "model_type_1_1.fit(x_train, y_train,\n",
        "          batch_size=16,\n",
        "          epochs=15,\n",
        "          validation_split=0.1)\n",
        "\n",
        "\n",
        "time_elapsed = time.time() - since\n",
        "print('Training complete in {:.0f}m {:.0f}s'.format(time_elapsed // 60, time_elapsed % 60))\n"
      ],
      "execution_count": 0,
      "outputs": [
        {
          "output_type": "stream",
          "text": [
            "W0626 09:55:58.130382 140381263574912 deprecation_wrapper.py:119] From /usr/local/lib/python3.6/dist-packages/keras/backend/tensorflow_backend.py:74: The name tf.get_default_graph is deprecated. Please use tf.compat.v1.get_default_graph instead.\n",
            "\n"
          ],
          "name": "stderr"
        },
        {
          "output_type": "stream",
          "text": [
            "Train on 7668 samples, validate on 853 samples\n",
            "Epoch 1/15\n",
            "7668/7668 [==============================] - 28s 4ms/sample - loss: 1.4057 - acc: 0.3462 - val_loss: 0.9109 - val_acc: 0.5850\n",
            "Epoch 2/15\n",
            "7668/7668 [==============================] - 28s 4ms/sample - loss: 1.0036 - acc: 0.5404 - val_loss: 0.8019 - val_acc: 0.6553\n",
            "Epoch 3/15\n",
            "7668/7668 [==============================] - 28s 4ms/sample - loss: 0.7260 - acc: 0.6721 - val_loss: 0.2884 - val_acc: 0.9308\n",
            "Epoch 4/15\n",
            "7668/7668 [==============================] - 28s 4ms/sample - loss: 0.5317 - acc: 0.7610 - val_loss: 0.0953 - val_acc: 0.9883\n",
            "Epoch 5/15\n",
            "7668/7668 [==============================] - 27s 4ms/sample - loss: 0.4102 - acc: 0.8161 - val_loss: 0.0555 - val_acc: 0.9941\n",
            "Epoch 6/15\n",
            "7668/7668 [==============================] - 28s 4ms/sample - loss: 0.3315 - acc: 0.8618 - val_loss: 0.0200 - val_acc: 0.9977\n",
            "Epoch 7/15\n",
            "7668/7668 [==============================] - 28s 4ms/sample - loss: 0.2346 - acc: 0.9045 - val_loss: 0.0131 - val_acc: 0.9977\n",
            "Epoch 8/15\n",
            "7668/7668 [==============================] - 27s 4ms/sample - loss: 0.1847 - acc: 0.9261 - val_loss: 0.0115 - val_acc: 0.9977\n",
            "Epoch 9/15\n",
            "7668/7668 [==============================] - 27s 4ms/sample - loss: 0.1443 - acc: 0.9437 - val_loss: 0.0078 - val_acc: 0.9965\n",
            "Epoch 10/15\n",
            "7668/7668 [==============================] - 28s 4ms/sample - loss: 0.1177 - acc: 0.9536 - val_loss: 0.0077 - val_acc: 0.9977\n",
            "Epoch 11/15\n",
            "7668/7668 [==============================] - 27s 4ms/sample - loss: 0.1023 - acc: 0.9617 - val_loss: 0.0231 - val_acc: 0.9883\n",
            "Epoch 12/15\n",
            "7668/7668 [==============================] - 27s 4ms/sample - loss: 0.0799 - acc: 0.9699 - val_loss: 0.0110 - val_acc: 0.9988\n",
            "Epoch 13/15\n",
            "7668/7668 [==============================] - 28s 4ms/sample - loss: 0.0722 - acc: 0.9721 - val_loss: 0.0024 - val_acc: 0.9988\n",
            "Epoch 14/15\n",
            "7668/7668 [==============================] - 28s 4ms/sample - loss: 0.0584 - acc: 0.9790 - val_loss: 0.0012 - val_acc: 1.0000\n",
            "Epoch 15/15\n",
            "7668/7668 [==============================] - 28s 4ms/sample - loss: 0.0419 - acc: 0.9845 - val_loss: 0.0012 - val_acc: 1.0000\n",
            "Training complete in 6m 54s\n"
          ],
          "name": "stdout"
        }
      ]
    },
    {
      "cell_type": "code",
      "metadata": {
        "id": "rGoa6_aBJB5C",
        "colab_type": "code",
        "outputId": "942bbe06-7a44-4615-ea02-0b2d977b3b94",
        "colab": {
          "base_uri": "https://localhost:8080/",
          "height": 52
        }
      },
      "source": [
        "model_type_1_1.evaluate(x_test,y_test,\n",
        "                        batch_size=16,verbose=1,\n",
        "                       steps=None)"
      ],
      "execution_count": 0,
      "outputs": [
        {
          "output_type": "stream",
          "text": [
            "3224/3224 [==============================] - 6s 2ms/sample - loss: 6.8154 - acc: 0.4038\n"
          ],
          "name": "stdout"
        },
        {
          "output_type": "execute_result",
          "data": {
            "text/plain": [
              "[6.815355650655389, 0.40384614]"
            ]
          },
          "metadata": {
            "tags": []
          },
          "execution_count": 30
        }
      ]
    },
    {
      "cell_type": "code",
      "metadata": {
        "id": "JlbPpS-IP9RS",
        "colab_type": "code",
        "outputId": "da96e27a-252d-4167-8c44-66e36fde83b3",
        "colab": {
          "base_uri": "https://localhost:8080/",
          "height": 225
        }
      },
      "source": [
        "y_pred_1_1 = model_type_1_1.predict(x_test)\n",
        "print(metrics.classification_report(y_test, y_pred_1_1.argmax(axis=1)))\n"
      ],
      "execution_count": 0,
      "outputs": [
        {
          "output_type": "stream",
          "text": [
            "              precision    recall  f1-score   support\n",
            "\n",
            "           0       0.30      0.85      0.44       693\n",
            "           1       0.37      0.49      0.42       646\n",
            "           2       0.97      0.18      0.31       651\n",
            "           3       0.96      0.23      0.37       613\n",
            "           4       0.95      0.22      0.36       621\n",
            "\n",
            "    accuracy                           0.40      3224\n",
            "   macro avg       0.71      0.39      0.38      3224\n",
            "weighted avg       0.70      0.40      0.38      3224\n",
            "\n"
          ],
          "name": "stdout"
        }
      ]
    },
    {
      "cell_type": "code",
      "metadata": {
        "id": "BOyTn0QxQ55u",
        "colab_type": "code",
        "outputId": "ddc7dd32-2623-4a6a-a8bf-10d41dbf2e2e",
        "colab": {
          "base_uri": "https://localhost:8080/",
          "height": 467
        }
      },
      "source": [
        "plot_confusion_matrix(metrics.confusion_matrix(y_test,y_pred_1_1.argmax(axis=1)),['c0','c1','c2','c3','c4'])"
      ],
      "execution_count": 0,
      "outputs": [
        {
          "output_type": "display_data",
          "data": {
            "image/png": "[encoded data removed]",
            "text/plain": [
              "<Figure size 576x432 with 2 Axes>"
            ]
          },
          "metadata": {
            "tags": []
          }
        }
      ]
    },
    {
      "cell_type": "code",
      "metadata": {
        "id": "gx1hDs_g9rEb",
        "colab_type": "code",
        "colab": {}
      },
      "source": [
        "model_json = model_type_1_1.to_json()\n",
        "\n",
        "with open('model_type_1_1','w') as json_file:\n",
        "  json_file.write(model_json)\n",
        "  \n",
        "model_type_1_1.save_weights('model_type_1_1.h5')"
      ],
      "execution_count": 0,
      "outputs": []
    },
    {
      "cell_type": "markdown",
      "metadata": {
        "id": "xOL1MvxVISLX",
        "colab_type": "text"
      },
      "source": [
        "type two, no batch-normalization"
      ]
    },
    {
      "cell_type": "code",
      "metadata": {
        "id": "o84VkaxZll6F",
        "colab_type": "code",
        "outputId": "4f1a5223-79f8-4bfe-df9e-9e29231a5237",
        "colab": {
          "base_uri": "https://localhost:8080/",
          "height": 593
        }
      },
      "source": [
        "model_type_2_0 = Sequential()#type 2 without batch-normalization\n",
        "\n",
        "model_type_2_0.add(Conv2D(64, (3,3),\n",
        "          padding='same',\n",
        "          input_shape=x_train.shape[1:],\n",
        "                 activation='relu'))#64\n",
        "\n",
        "model_type_2_0.add(Conv2D(32, (3,3),\n",
        "                padding='same',\n",
        "                activation='relu'))#32\n",
        "\n",
        "model_type_2_0.add(MaxPooling2D(pool_size=(2,2)))#Maxpooling layer\n",
        "\n",
        "\n",
        "\n",
        "model_type_2_0.add(Flatten())\n",
        "\n",
        "'''\n",
        "model_type_2_0.add(Dense(16, activation='softmax'))\n",
        "'''\n",
        "\n",
        "model_type_2_0.add(Dense(100))\n",
        "\n",
        "model_type_2_0.add(ReLU())\n",
        "\n",
        "model_type_2_0.add(Dropout(0.5))\n",
        "\n",
        "model_type_2_0.add(Dense(100))\n",
        "\n",
        "model_type_2_0.add(Dense(5, activation='softmax'))\n",
        "\n",
        "#model_type_2_0.add(Softmax())\n",
        "\n",
        "\n",
        "model_type_2_0.compile(loss='sparse_categorical_crossentropy',\n",
        "             optimizer='sgd',\n",
        "             metrics=['accuracy'])\n",
        "\n",
        "since = time.time()\n",
        "\n",
        "model_type_2_0.fit(x_train, y_train,\n",
        "                   batch_size=16,\n",
        "                   epochs=15,\n",
        "                   validation_split=0.1)\n",
        "\n",
        "time_elapsed = time.time() - since\n",
        "print('Training complete in {:.0f}m {:.0f}s'.format(time_elapsed // 60, time_elapsed % 60))"
      ],
      "execution_count": 0,
      "outputs": [
        {
          "output_type": "stream",
          "text": [
            "Train on 7668 samples, validate on 853 samples\n",
            "Epoch 1/15\n",
            "7668/7668 [==============================] - 35s 5ms/sample - loss: 1.4839 - acc: 0.3279 - val_loss: 1.2771 - val_acc: 0.4115\n",
            "Epoch 2/15\n",
            "7668/7668 [==============================] - 34s 4ms/sample - loss: 1.2767 - acc: 0.4056 - val_loss: 1.1805 - val_acc: 0.4197\n",
            "Epoch 3/15\n",
            "7668/7668 [==============================] - 34s 4ms/sample - loss: 1.1843 - acc: 0.4461 - val_loss: 0.8372 - val_acc: 0.7843\n",
            "Epoch 4/15\n",
            "7668/7668 [==============================] - 34s 4ms/sample - loss: 0.9582 - acc: 0.5608 - val_loss: 0.5997 - val_acc: 0.8382\n",
            "Epoch 5/15\n",
            "7668/7668 [==============================] - 34s 4ms/sample - loss: 0.6674 - acc: 0.7012 - val_loss: 0.1483 - val_acc: 0.9812\n",
            "Epoch 6/15\n",
            "7668/7668 [==============================] - 34s 4ms/sample - loss: 0.4048 - acc: 0.8379 - val_loss: 0.0739 - val_acc: 0.9883\n",
            "Epoch 7/15\n",
            "7668/7668 [==============================] - 34s 4ms/sample - loss: 0.2472 - acc: 0.9026 - val_loss: 0.0821 - val_acc: 0.9777\n",
            "Epoch 8/15\n",
            "7668/7668 [==============================] - 34s 4ms/sample - loss: 0.1583 - acc: 0.9412 - val_loss: 0.0177 - val_acc: 0.9941\n",
            "Epoch 9/15\n",
            "7668/7668 [==============================] - 34s 4ms/sample - loss: 0.1110 - acc: 0.9585 - val_loss: 1.2023 - val_acc: 0.8066\n",
            "Epoch 10/15\n",
            "7668/7668 [==============================] - 34s 4ms/sample - loss: 0.1258 - acc: 0.9567 - val_loss: 0.0272 - val_acc: 0.9918\n",
            "Epoch 11/15\n",
            "7668/7668 [==============================] - 34s 4ms/sample - loss: 0.0911 - acc: 0.9682 - val_loss: 0.0082 - val_acc: 0.9977\n",
            "Epoch 12/15\n",
            "7668/7668 [==============================] - 34s 4ms/sample - loss: 0.0653 - acc: 0.9759 - val_loss: 0.0088 - val_acc: 0.9965\n",
            "Epoch 13/15\n",
            "7668/7668 [==============================] - 34s 4ms/sample - loss: 0.0506 - acc: 0.9815 - val_loss: 0.0021 - val_acc: 0.9988\n",
            "Epoch 14/15\n",
            "7668/7668 [==============================] - 34s 4ms/sample - loss: 0.0441 - acc: 0.9849 - val_loss: 0.0083 - val_acc: 0.9977\n",
            "Epoch 15/15\n",
            "7668/7668 [==============================] - 34s 4ms/sample - loss: 0.0452 - acc: 0.9838 - val_loss: 0.0041 - val_acc: 0.9988\n",
            "Training complete in 8m 36s\n"
          ],
          "name": "stdout"
        }
      ]
    },
    {
      "cell_type": "code",
      "metadata": {
        "id": "WCf0q3QCTrBO",
        "colab_type": "code",
        "outputId": "f5c74718-acba-46cc-cf51-e1360191ea84",
        "colab": {
          "base_uri": "https://localhost:8080/",
          "height": 52
        }
      },
      "source": [
        "model_type_2_0.evaluate(x_test,y_test,\n",
        "                        batch_size=16,verbose=1,\n",
        "                       steps=None)\n"
      ],
      "execution_count": 0,
      "outputs": [
        {
          "output_type": "stream",
          "text": [
            "3224/3224 [==============================] - 6s 2ms/sample - loss: 7.9408 - acc: 0.4175\n"
          ],
          "name": "stdout"
        },
        {
          "output_type": "execute_result",
          "data": {
            "text/plain": [
              "[7.940786888522487, 0.4174938]"
            ]
          },
          "metadata": {
            "tags": []
          },
          "execution_count": 47
        }
      ]
    },
    {
      "cell_type": "code",
      "metadata": {
        "id": "p7SC7dntS15i",
        "colab_type": "code",
        "outputId": "3090fdc4-c9a7-4264-f46d-86a77117a020",
        "colab": {
          "base_uri": "https://localhost:8080/",
          "height": 225
        }
      },
      "source": [
        "y_pred_2_0 = model_type_2_0.predict(x_test)\n",
        "print(metrics.classification_report(y_test, y_pred_2_0.argmax(axis=1)))\n"
      ],
      "execution_count": 0,
      "outputs": [
        {
          "output_type": "stream",
          "text": [
            "              precision    recall  f1-score   support\n",
            "\n",
            "           0       0.33      0.63      0.44       693\n",
            "           1       0.35      0.81      0.49       646\n",
            "           2       1.00      0.19      0.32       651\n",
            "           3       1.00      0.20      0.33       613\n",
            "           4       0.87      0.23      0.36       621\n",
            "\n",
            "    accuracy                           0.42      3224\n",
            "   macro avg       0.71      0.41      0.39      3224\n",
            "weighted avg       0.70      0.42      0.39      3224\n",
            "\n"
          ],
          "name": "stdout"
        }
      ]
    },
    {
      "cell_type": "code",
      "metadata": {
        "id": "7rH5Ck3OS7Vl",
        "colab_type": "code",
        "outputId": "0d09b3d4-6c04-4e6c-e6e5-7840cf598584",
        "colab": {
          "base_uri": "https://localhost:8080/",
          "height": 467
        }
      },
      "source": [
        "plot_confusion_matrix(metrics.confusion_matrix(y_test,y_pred_2_0.argmax(axis=1)),['c0','c1','c2','c3','c4'])"
      ],
      "execution_count": 0,
      "outputs": [
        {
          "output_type": "display_data",
          "data": {
            "image/png": "[encoded data removed]",
            "text/plain": [
              "<Figure size 576x432 with 2 Axes>"
            ]
          },
          "metadata": {
            "tags": []
          }
        }
      ]
    },
    {
      "cell_type": "code",
      "metadata": {
        "id": "SxF74BioY0QC",
        "colab_type": "code",
        "outputId": "9f181836-2be7-4d9a-d3b7-558c7d3e0e7c",
        "colab": {
          "base_uri": "https://localhost:8080/",
          "height": 432
        }
      },
      "source": [
        "import pandas as pd\n",
        "import seaborn as sn\n",
        "import matplotlib.pyplot as plt\n",
        "def plot_one_label_CM(array):\n",
        "  df_cm = pd.DataFrame(array, index = [i for i in \"ABCDE\"],\n",
        "                  columns = [i for i in \"ABCDE\"])\n",
        "  plt.figure(figsize = (10,7))\n",
        "  sn.heatmap(df_cm, annot=True)\n",
        "  \n",
        "plot_one_label_CM(metrics.confusion_matrix(y_test,y_pred_2_0.argmax(axis=1)))"
      ],
      "execution_count": 0,
      "outputs": [
        {
          "output_type": "display_data",
          "data": {
            "image/png": "[encoded data removed]",
            "text/plain": [
              "<Figure size 720x504 with 2 Axes>"
            ]
          },
          "metadata": {
            "tags": []
          }
        }
      ]
    },
    {
      "cell_type": "code",
      "metadata": {
        "id": "hlmw13pR5J6r",
        "colab_type": "code",
        "colab": {}
      },
      "source": [
        "model_json = model_type_2_0.to_json()\n",
        "\n",
        "with open('model_type_2_0','w') as json_file:\n",
        "  json_file.write(model_json)\n",
        "  \n",
        "model_type_2_0.save_weights('model_type_2_0.h5')"
      ],
      "execution_count": 0,
      "outputs": []
    },
    {
      "cell_type": "markdown",
      "metadata": {
        "id": "b51dxRlaIX10",
        "colab_type": "text"
      },
      "source": [
        "type three, with batch-normalization"
      ]
    },
    {
      "cell_type": "code",
      "metadata": {
        "id": "pENMIvCw_xsm",
        "colab_type": "code",
        "outputId": "a59f402c-abc0-4bee-9b07-c08192dba047",
        "colab": {
          "base_uri": "https://localhost:8080/",
          "height": 593
        }
      },
      "source": [
        "#type 3 with batch-normalization\n",
        "model_type_3_1 = Sequential()\n",
        "\n",
        "model_type_3_1.add(Conv2D(128, (3,3),\n",
        "                   padding='same',\n",
        "                   input_shape=x_train.shape[1:],\n",
        "                   activation='relu'))#128\n",
        "\n",
        "keras.layers.BatchNormalization(axis=1,\n",
        "                                momentum=0.9,\n",
        "                                epsilon=0.001,\n",
        "                                center=True,\n",
        "                                scale=True,\n",
        "                                beta_initializer='zeros',\n",
        "                                gamma_initializer='ones',\n",
        "                                moving_mean_initializer='zeros',\n",
        "                                moving_variance_initializer='ones',\n",
        "                                beta_regularizer=None,\n",
        "                                gamma_regularizer=None,\n",
        "                                beta_constraint=None,\n",
        "                                gamma_constraint=None)#B\n",
        "\n",
        "model_type_3_1.add(Conv2D(64, (3,3),\n",
        "                   padding='same',\n",
        "                   activation='relu'))#64\n",
        "\n",
        "\n",
        "keras.layers.BatchNormalization(axis=1,\n",
        "                                momentum=0.9,\n",
        "                                epsilon=0.001,\n",
        "                                center=True,\n",
        "                                scale=True,\n",
        "                                beta_initializer='zeros',\n",
        "                                gamma_initializer='ones',\n",
        "                                moving_mean_initializer='zeros',\n",
        "                                moving_variance_initializer='ones',\n",
        "                                beta_regularizer=None,\n",
        "                                gamma_regularizer=None,\n",
        "                                beta_constraint=None,\n",
        "                                gamma_constraint=None)#B\n",
        "\n",
        "model_type_3_1.add(MaxPooling2D(pool_size=(2,2)))#M\n",
        "\n",
        "\n",
        "model_type_3_1.add(Conv2D(64, (3,3),\n",
        "                   padding='same',\n",
        "                   activation='relu'))#64\n",
        "\n",
        "keras.layers.BatchNormalization(axis=1,\n",
        "                                momentum=0.9,\n",
        "                                epsilon=0.001,\n",
        "                                center=True,\n",
        "                                scale=True,\n",
        "                                beta_initializer='zeros',\n",
        "                                gamma_initializer='ones',\n",
        "                                moving_mean_initializer='zeros',\n",
        "                                moving_variance_initializer='ones',\n",
        "                                beta_regularizer=None,\n",
        "                                gamma_regularizer=None,\n",
        "                                beta_constraint=None,\n",
        "                                gamma_constraint=None)#B\n",
        "\n",
        "model_type_3_1.add(Conv2D(32, (3,3),\n",
        "                   padding='same',\n",
        "                   activation='relu'))#32\n",
        "\n",
        "keras.layers.BatchNormalization(axis=1,\n",
        "                                momentum=0.9,\n",
        "                                epsilon=0.001,\n",
        "                                center=True,\n",
        "                                scale=True,\n",
        "                                beta_initializer='zeros',\n",
        "                                gamma_initializer='ones',\n",
        "                                moving_mean_initializer='zeros',\n",
        "                                moving_variance_initializer='ones',\n",
        "                                beta_regularizer=None,\n",
        "                                gamma_regularizer=None,\n",
        "                                beta_constraint=None,\n",
        "                                gamma_constraint=None)#B\n",
        "\n",
        "model_type_3_1.add(MaxPooling2D(pool_size=(2,2)))#M\n",
        "\n",
        "\n",
        "model_type_3_1.add(Flatten())\n",
        "\n",
        "'''\n",
        "model_type_3_1.add(Dense(16, activation='softmax'))\n",
        "'''\n",
        "\n",
        "model_type_3_1.add(Dense(100))\n",
        "\n",
        "model_type_3_1.add(ReLU())\n",
        "\n",
        "model_type_3_1.add(Dropout(0.5))\n",
        "\n",
        "model_type_3_1.add(Dense(100))\n",
        "\n",
        "model_type_3_1.add(Dense(5, activation='softmax'))\n",
        "\n",
        "#model_type_3_1.add(Softmax())\n",
        "\n",
        "model_type_3_1.compile(loss='sparse_categorical_crossentropy',\n",
        "                       optimizer='sgd',\n",
        "                       metrics=['accuracy']\n",
        "                      )\n",
        "\n",
        "\n",
        "since = time.time()\n",
        "\n",
        "\n",
        "history = model_type_3_1.fit(x_train, y_train,\n",
        "          batch_size=16,\n",
        "          epochs=15,\n",
        "          validation_split=0.1)\n",
        "\n",
        "\n",
        "time_elapsed = time.time() - since\n",
        "print('Training complete in {:.0f}m {:.0f}s'.format(time_elapsed // 60, time_elapsed % 60))\n"
      ],
      "execution_count": 0,
      "outputs": [
        {
          "output_type": "stream",
          "text": [
            "Train on 7668 samples, validate on 853 samples\n",
            "Epoch 1/15\n",
            "7668/7668 [==============================] - 64s 8ms/sample - loss: 1.4023 - acc: 0.3629 - val_loss: 1.1059 - val_acc: 0.5686\n",
            "Epoch 2/15\n",
            "7668/7668 [==============================] - 64s 8ms/sample - loss: 0.6334 - acc: 0.7465 - val_loss: 0.1207 - val_acc: 0.9707\n",
            "Epoch 3/15\n",
            "7668/7668 [==============================] - 64s 8ms/sample - loss: 0.1900 - acc: 0.9340 - val_loss: 0.0764 - val_acc: 0.9719\n",
            "Epoch 4/15\n",
            "7668/7668 [==============================] - 64s 8ms/sample - loss: 0.1033 - acc: 0.9682 - val_loss: 0.0115 - val_acc: 0.9977\n",
            "Epoch 5/15\n",
            "7668/7668 [==============================] - 64s 8ms/sample - loss: 0.0690 - acc: 0.9756 - val_loss: 0.0122 - val_acc: 0.9953\n",
            "Epoch 6/15\n",
            "7668/7668 [==============================] - 64s 8ms/sample - loss: 0.0455 - acc: 0.9841 - val_loss: 0.0073 - val_acc: 0.9977\n",
            "Epoch 7/15\n",
            "7668/7668 [==============================] - 63s 8ms/sample - loss: 0.0461 - acc: 0.9832 - val_loss: 0.0065 - val_acc: 0.9977\n",
            "Epoch 8/15\n",
            "7668/7668 [==============================] - 64s 8ms/sample - loss: 0.0300 - acc: 0.9901 - val_loss: 0.0039 - val_acc: 0.9977\n",
            "Epoch 9/15\n",
            "7668/7668 [==============================] - 63s 8ms/sample - loss: 0.0290 - acc: 0.9907 - val_loss: 0.0047 - val_acc: 0.9988\n",
            "Epoch 10/15\n",
            "7668/7668 [==============================] - 63s 8ms/sample - loss: 0.0235 - acc: 0.9924 - val_loss: 0.0067 - val_acc: 0.9977\n",
            "Epoch 11/15\n",
            "7668/7668 [==============================] - 64s 8ms/sample - loss: 0.0284 - acc: 0.9901 - val_loss: 0.0043 - val_acc: 0.9988\n",
            "Epoch 12/15\n",
            "7668/7668 [==============================] - 63s 8ms/sample - loss: 0.0196 - acc: 0.9920 - val_loss: 0.0069 - val_acc: 0.9977\n",
            "Epoch 13/15\n",
            "7668/7668 [==============================] - 63s 8ms/sample - loss: 0.0154 - acc: 0.9943 - val_loss: 0.0036 - val_acc: 0.9977\n",
            "Epoch 14/15\n",
            "7668/7668 [==============================] - 63s 8ms/sample - loss: 0.0192 - acc: 0.9943 - val_loss: 0.0041 - val_acc: 0.9988\n",
            "Epoch 15/15\n",
            "7668/7668 [==============================] - 63s 8ms/sample - loss: 0.0100 - acc: 0.9965 - val_loss: 0.0012 - val_acc: 0.9988\n",
            "Training complete in 15m 55s\n"
          ],
          "name": "stdout"
        }
      ]
    },
    {
      "cell_type": "code",
      "metadata": {
        "id": "5kGKZ1ICXpTg",
        "colab_type": "code",
        "outputId": "e7bd78ba-9285-47dc-de59-e6bd9725d7ce",
        "colab": {
          "base_uri": "https://localhost:8080/",
          "height": 52
        }
      },
      "source": [
        "model_type_3_1.evaluate(x_test,y_test,\n",
        "                        batch_size=16,verbose=1,\n",
        "                       steps=None)"
      ],
      "execution_count": 0,
      "outputs": [
        {
          "output_type": "stream",
          "text": [
            "3224/3224 [==============================] - 10s 3ms/sample - loss: 10.5839 - acc: 0.3790\n"
          ],
          "name": "stdout"
        },
        {
          "output_type": "execute_result",
          "data": {
            "text/plain": [
              "[10.583868583068067, 0.37903225]"
            ]
          },
          "metadata": {
            "tags": []
          },
          "execution_count": 58
        }
      ]
    },
    {
      "cell_type": "code",
      "metadata": {
        "id": "0TWGhA_gUNpf",
        "colab_type": "code",
        "outputId": "1572c5cd-2f1f-49d5-e027-bb87efe3bb5a",
        "colab": {
          "base_uri": "https://localhost:8080/",
          "height": 225
        }
      },
      "source": [
        "y_pred_3_1 = model_type_3_1.predict(x_test)\n",
        "print(metrics.classification_report(y_test, y_pred_3_1.argmax(axis=1)))\n"
      ],
      "execution_count": 0,
      "outputs": [
        {
          "output_type": "stream",
          "text": [
            "              precision    recall  f1-score   support\n",
            "\n",
            "           0       0.30      0.79      0.43       693\n",
            "           1       0.30      0.38      0.34       646\n",
            "           2       0.64      0.24      0.35       651\n",
            "           3       0.82      0.21      0.33       613\n",
            "           4       0.88      0.23      0.36       621\n",
            "\n",
            "    accuracy                           0.38      3224\n",
            "   macro avg       0.59      0.37      0.36      3224\n",
            "weighted avg       0.58      0.38      0.36      3224\n",
            "\n"
          ],
          "name": "stdout"
        }
      ]
    },
    {
      "cell_type": "code",
      "metadata": {
        "id": "6GGCtIGZUTss",
        "colab_type": "code",
        "outputId": "6597aca9-4af5-4315-d741-17a09fa0678d",
        "colab": {
          "base_uri": "https://localhost:8080/",
          "height": 467
        }
      },
      "source": [
        "plot_confusion_matrix(metrics.confusion_matrix(y_test,y_pred_3_1.argmax(axis=1)),['c0','c1','c2','c3','c4'])"
      ],
      "execution_count": 0,
      "outputs": [
        {
          "output_type": "display_data",
          "data": {
            "image/png": "[encoded data removed]",
            "text/plain": [
              "<Figure size 576x432 with 2 Axes>"
            ]
          },
          "metadata": {
            "tags": []
          }
        }
      ]
    },
    {
      "cell_type": "code",
      "metadata": {
        "id": "EZlBQhmTIeP-",
        "colab_type": "code",
        "colab": {}
      },
      "source": [
        " model_json = model_type_3_1.to_json()\n",
        "with open('model_type_3_1','w') as json_file:\n",
        "  json_file.write(model_json)\n",
        "  \n",
        "model_type_3_1.save_weights('model_type_3_1.h5')"
      ],
      "execution_count": 0,
      "outputs": []
    },
    {
      "cell_type": "code",
      "metadata": {
        "id": "ldvLDJBu_N-6",
        "colab_type": "code",
        "outputId": "2ccd02cf-6674-46aa-9c3c-af2d062dbba8",
        "colab": {
          "base_uri": "https://localhost:8080/",
          "height": 236
        }
      },
      "source": [
        "import cv2\n",
        "import numpy as np\n",
        "from matplotlib import pyplot as plt\n",
        "\n",
        "img = x_train[0]\n",
        "\n",
        "hist,bins = np.histogram(img.flatten(),256,[0,256])\n",
        "\n",
        "cdf = hist.cumsum()\n",
        "cdf_normalized = cdf * hist.max()/ cdf.max()\n",
        "\n",
        "plt.plot(cdf_normalized, color = 'b')\n",
        "plt.hist(img.flatten(),256,[0,256], color = 'r')\n",
        "plt.xlim([0,256])\n",
        "plt.legend(('cdf','histogram'), loc = 'upper left')\n",
        "plt.show()"
      ],
      "execution_count": 0,
      "outputs": [
        {
          "output_type": "error",
          "ename": "NameError",
          "evalue": "ignored",
          "traceback": [
            "\u001b[0;31m---------------------------------------------------------------------------\u001b[0m",
            "\u001b[0;31mNameError\u001b[0m                                 Traceback (most recent call last)",
            "\u001b[0;32m<ipython-input-5-c6e8ee2c5b9b>\u001b[0m in \u001b[0;36m<module>\u001b[0;34m()\u001b[0m\n\u001b[1;32m      3\u001b[0m \u001b[0;32mfrom\u001b[0m \u001b[0mmatplotlib\u001b[0m \u001b[0;32mimport\u001b[0m \u001b[0mpyplot\u001b[0m \u001b[0;32mas\u001b[0m \u001b[0mplt\u001b[0m\u001b[0;34m\u001b[0m\u001b[0;34m\u001b[0m\u001b[0m\n\u001b[1;32m      4\u001b[0m \u001b[0;34m\u001b[0m\u001b[0m\n\u001b[0;32m----> 5\u001b[0;31m \u001b[0mimg\u001b[0m \u001b[0;34m=\u001b[0m \u001b[0mx_train\u001b[0m\u001b[0;34m[\u001b[0m\u001b[0;36m0\u001b[0m\u001b[0;34m]\u001b[0m\u001b[0;34m\u001b[0m\u001b[0;34m\u001b[0m\u001b[0m\n\u001b[0m\u001b[1;32m      6\u001b[0m \u001b[0;34m\u001b[0m\u001b[0m\n\u001b[1;32m      7\u001b[0m \u001b[0mhist\u001b[0m\u001b[0;34m,\u001b[0m\u001b[0mbins\u001b[0m \u001b[0;34m=\u001b[0m \u001b[0mnp\u001b[0m\u001b[0;34m.\u001b[0m\u001b[0mhistogram\u001b[0m\u001b[0;34m(\u001b[0m\u001b[0mimg\u001b[0m\u001b[0;34m.\u001b[0m\u001b[0mflatten\u001b[0m\u001b[0;34m(\u001b[0m\u001b[0;34m)\u001b[0m\u001b[0;34m,\u001b[0m\u001b[0;36m256\u001b[0m\u001b[0;34m,\u001b[0m\u001b[0;34m[\u001b[0m\u001b[0;36m0\u001b[0m\u001b[0;34m,\u001b[0m\u001b[0;36m256\u001b[0m\u001b[0;34m]\u001b[0m\u001b[0;34m)\u001b[0m\u001b[0;34m\u001b[0m\u001b[0;34m\u001b[0m\u001b[0m\n",
            "\u001b[0;31mNameError\u001b[0m: name 'x_train' is not defined"
          ]
        }
      ]
    },
    {
      "cell_type": "code",
      "metadata": {
        "id": "nP5dD1Ur70WE",
        "colab_type": "code",
        "colab": {}
      },
      "source": [
        ""
      ],
      "execution_count": 0,
      "outputs": []
    }
  ]
}